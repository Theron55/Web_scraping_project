{
  "cells": [
    {
      "cell_type": "markdown",
      "metadata": {
        "id": "view-in-github",
        "colab_type": "text"
      },
      "source": [
        "<a href=\"https://colab.research.google.com/github/Theron55/Web_scraping_project/blob/main/FinalProject.ipynb\" target=\"_parent\"><img src=\"https://colab.research.google.com/assets/colab-badge.svg\" alt=\"Open In Colab\"/></a>"
      ]
    },
    {
      "cell_type": "markdown",
      "source": [
        "**The Ratings of Critics and Players in Games**\n",
        "\n",
        "By: Nicholas Shin, Brady Deyak, Theron Hamlin"
      ],
      "metadata": {
        "id": "TF1rSkVADXpX"
      }
    },
    {
      "cell_type": "code",
      "execution_count": null,
      "metadata": {
        "id": "gkYH6kbu1Pur"
      },
      "outputs": [],
      "source": [
        "import pandas as pd\n",
        "import matplotlib.pyplot as plt\n",
        "import seaborn as sns\n",
        "import numpy as np\n",
        "import matplotlib as mpl\n",
        "import time\n",
        "import bs4\n",
        "from bs4 import BeautifulSoup\n",
        "import requests\n"
      ]
    },
    {
      "cell_type": "code",
      "execution_count": null,
      "metadata": {
        "id": "zu96okg0_VWr"
      },
      "outputs": [],
      "source": [
        "gameMeta = ['https://www.metacritic.com/game/pc/counter-strike-global-offensive/critic-reviews', 'https://www.metacritic.com/game/pc/apex-legends/critic-reviews', 'https://www.metacritic.com/game/pc/dead-by-daylight/critic-reviews', 'https://www.metacritic.com/game/playstation-4/resident-evil-7-biohazard/critic-reviews']\n",
        "gameMetaUser = ['https://www.metacritic.com/game/pc/counter-strike-global-offensive/user-reviews','https://www.metacritic.com/game/pc/apex-legends/user-reviews', 'https://www.metacritic.com/game/pc/dead-by-daylight/user-reviews', 'https://www.metacritic.com/game/playstation-4/resident-evil-7-biohazard/user-reviews']\n",
        "gameSteam = ['https://store.steampowered.com/appreviews/730?json=1',\"https://store.steampowered.com/appreviews/1172470?json=1\", \"https://store.steampowered.com/appreviews/381210?json=1\", \"https://store.steampowered.com/appreviews/418370?json=1\"]\n",
        "gameName = ['CS:GO', 'Apex Legends', 'Dead By Daylight', 'Resident Evil 7: Biohazard']\n",
        "CombinedDF = pd.DataFrame()\n",
        "soup_list_Steam = []"
      ]
    },
    {
      "cell_type": "markdown",
      "source": [
        "**Steam Reviews**"
      ],
      "metadata": {
        "id": "Y9wt1-hfd5b-"
      }
    },
    {
      "cell_type": "code",
      "source": [
        "\n",
        "def scrape_reviews(url, game_name):\n",
        "    headers = {'Accept-Language': 'en-US,en;q=0.5'}\n",
        "    params = {'json': '1', 'cursor': '*'}\n",
        "    reviews = []\n",
        "    while True:\n",
        "        response = requests.get(url, headers=headers, params=params)\n",
        "        data = response.json()\n",
        "        for review in data['reviews']:\n",
        "            reviews.append({'Game': game_name, 'Review': review['review'], 'Voted_Up': review['voted_up']})\n",
        "            if len(reviews) == 1000:\n",
        "                return reviews\n",
        "        if not data['reviews']:\n",
        "            return reviews\n",
        "        cursor = data['cursor']\n",
        "        params['cursor'] = cursor\n",
        "\n",
        "\n",
        "reviews = []\n",
        "for url, game_name in zip(gameSteam, gameName):\n",
        "    reviews.extend(scrape_reviews(url, game_name))\n",
        "dfSteam = pd.DataFrame(reviews)\n"
      ],
      "metadata": {
        "id": "Efb__T6XZ8u1"
      },
      "execution_count": null,
      "outputs": []
    },
    {
      "cell_type": "markdown",
      "source": [
        "**Writeup**"
      ],
      "metadata": {
        "id": "CjkHApQFoh_y"
      }
    },
    {
      "cell_type": "markdown",
      "source": [
        "**MetaCritic Critic Reviews**"
      ],
      "metadata": {
        "id": "d1BSDIs3dmb2"
      }
    },
    {
      "cell_type": "code",
      "source": [
        "soup_list_Meta = []\n",
        "gamelist = []\n",
        "headerMeta = {'User-Agent': 'Mozilla/5.0 (Windows NT 10.0; Win64; x64) AppleWebKit/537.36 (KHTML, like Gecko) Chrome/62.0.3202.94 Safari/537.36'}\n",
        "dfMeta = pd.DataFrame()\n",
        "\n",
        "for game in range(len(gameMeta)):\n",
        "    responseMeta = requests.get(gameMeta[game], headers=headerMeta)\n",
        "    soup_list_Meta.append(bs4.BeautifulSoup(responseMeta.text, 'html.parser'))\n",
        "    review_statement = []\n",
        "    for soup in soup_list_Meta:\n",
        "        # Get all titles\n",
        "        for review in soup.find_all(\"div\", class_=\"review_body\"):\n",
        "            stripped = review.text.strip()\n",
        "            review_statement.append(stripped.split('\\n')[0])\n",
        "            gamelist.append(gameName[game])\n",
        "\n",
        "    df = pd.DataFrame()\n",
        "    df['Game'] = gamelist[-len(review_statement):]\n",
        "    df['Critic_Review'] = review_statement\n",
        "    dfMeta = pd.concat([dfMeta, df], ignore_index=True)\n",
        "dfMeta\n"
      ],
      "metadata": {
        "colab": {
          "base_uri": "https://localhost:8080/",
          "height": 424
        },
        "id": "jiuO_ldHP4ny",
        "outputId": "054ca5e5-72fd-416b-c8ea-f51b92326957"
      },
      "execution_count": null,
      "outputs": [
        {
          "output_type": "execute_result",
          "data": {
            "text/plain": [
              "                           Game  \\\n",
              "0                         CS:GO   \n",
              "1                         CS:GO   \n",
              "2                         CS:GO   \n",
              "3                         CS:GO   \n",
              "4                         CS:GO   \n",
              "..                          ...   \n",
              "404  Resident Evil 7: Biohazard   \n",
              "405  Resident Evil 7: Biohazard   \n",
              "406  Resident Evil 7: Biohazard   \n",
              "407  Resident Evil 7: Biohazard   \n",
              "408  Resident Evil 7: Biohazard   \n",
              "\n",
              "                                         Critic_Review  \n",
              "0    It may lack some of the community niceties, be...  \n",
              "1    Brilliant old-school shooter has convinced us ...  \n",
              "2    The new Counter Strike game is the king of tac...  \n",
              "3    In the end, CS:GO is CS. There's something to ...  \n",
              "4    At the end, what matters is not if CS:GO is in...  \n",
              "..                                                 ...  \n",
              "404  A bold and successful reinvention of the franc...  \n",
              "405  From its opening unhinged riff on Texas Chains...  \n",
              "406  best resident evil since 4, its actually scary...  \n",
              "407  This game isn't Resident Evil I give it a 4 ov...  \n",
              "408  I never was a big Resident Evil fan until I de...  \n",
              "\n",
              "[409 rows x 2 columns]"
            ],
            "text/html": [
              "\n",
              "  <div id=\"df-99873da6-b825-4625-9afc-b8c606c92679\">\n",
              "    <div class=\"colab-df-container\">\n",
              "      <div>\n",
              "<style scoped>\n",
              "    .dataframe tbody tr th:only-of-type {\n",
              "        vertical-align: middle;\n",
              "    }\n",
              "\n",
              "    .dataframe tbody tr th {\n",
              "        vertical-align: top;\n",
              "    }\n",
              "\n",
              "    .dataframe thead th {\n",
              "        text-align: right;\n",
              "    }\n",
              "</style>\n",
              "<table border=\"1\" class=\"dataframe\">\n",
              "  <thead>\n",
              "    <tr style=\"text-align: right;\">\n",
              "      <th></th>\n",
              "      <th>Game</th>\n",
              "      <th>Critic_Review</th>\n",
              "    </tr>\n",
              "  </thead>\n",
              "  <tbody>\n",
              "    <tr>\n",
              "      <th>0</th>\n",
              "      <td>CS:GO</td>\n",
              "      <td>It may lack some of the community niceties, be...</td>\n",
              "    </tr>\n",
              "    <tr>\n",
              "      <th>1</th>\n",
              "      <td>CS:GO</td>\n",
              "      <td>Brilliant old-school shooter has convinced us ...</td>\n",
              "    </tr>\n",
              "    <tr>\n",
              "      <th>2</th>\n",
              "      <td>CS:GO</td>\n",
              "      <td>The new Counter Strike game is the king of tac...</td>\n",
              "    </tr>\n",
              "    <tr>\n",
              "      <th>3</th>\n",
              "      <td>CS:GO</td>\n",
              "      <td>In the end, CS:GO is CS. There's something to ...</td>\n",
              "    </tr>\n",
              "    <tr>\n",
              "      <th>4</th>\n",
              "      <td>CS:GO</td>\n",
              "      <td>At the end, what matters is not if CS:GO is in...</td>\n",
              "    </tr>\n",
              "    <tr>\n",
              "      <th>...</th>\n",
              "      <td>...</td>\n",
              "      <td>...</td>\n",
              "    </tr>\n",
              "    <tr>\n",
              "      <th>404</th>\n",
              "      <td>Resident Evil 7: Biohazard</td>\n",
              "      <td>A bold and successful reinvention of the franc...</td>\n",
              "    </tr>\n",
              "    <tr>\n",
              "      <th>405</th>\n",
              "      <td>Resident Evil 7: Biohazard</td>\n",
              "      <td>From its opening unhinged riff on Texas Chains...</td>\n",
              "    </tr>\n",
              "    <tr>\n",
              "      <th>406</th>\n",
              "      <td>Resident Evil 7: Biohazard</td>\n",
              "      <td>best resident evil since 4, its actually scary...</td>\n",
              "    </tr>\n",
              "    <tr>\n",
              "      <th>407</th>\n",
              "      <td>Resident Evil 7: Biohazard</td>\n",
              "      <td>This game isn't Resident Evil I give it a 4 ov...</td>\n",
              "    </tr>\n",
              "    <tr>\n",
              "      <th>408</th>\n",
              "      <td>Resident Evil 7: Biohazard</td>\n",
              "      <td>I never was a big Resident Evil fan until I de...</td>\n",
              "    </tr>\n",
              "  </tbody>\n",
              "</table>\n",
              "<p>409 rows × 2 columns</p>\n",
              "</div>\n",
              "      <button class=\"colab-df-convert\" onclick=\"convertToInteractive('df-99873da6-b825-4625-9afc-b8c606c92679')\"\n",
              "              title=\"Convert this dataframe to an interactive table.\"\n",
              "              style=\"display:none;\">\n",
              "        \n",
              "  <svg xmlns=\"http://www.w3.org/2000/svg\" height=\"24px\"viewBox=\"0 0 24 24\"\n",
              "       width=\"24px\">\n",
              "    <path d=\"M0 0h24v24H0V0z\" fill=\"none\"/>\n",
              "    <path d=\"M18.56 5.44l.94 2.06.94-2.06 2.06-.94-2.06-.94-.94-2.06-.94 2.06-2.06.94zm-11 1L8.5 8.5l.94-2.06 2.06-.94-2.06-.94L8.5 2.5l-.94 2.06-2.06.94zm10 10l.94 2.06.94-2.06 2.06-.94-2.06-.94-.94-2.06-.94 2.06-2.06.94z\"/><path d=\"M17.41 7.96l-1.37-1.37c-.4-.4-.92-.59-1.43-.59-.52 0-1.04.2-1.43.59L10.3 9.45l-7.72 7.72c-.78.78-.78 2.05 0 2.83L4 21.41c.39.39.9.59 1.41.59.51 0 1.02-.2 1.41-.59l7.78-7.78 2.81-2.81c.8-.78.8-2.07 0-2.86zM5.41 20L4 18.59l7.72-7.72 1.47 1.35L5.41 20z\"/>\n",
              "  </svg>\n",
              "      </button>\n",
              "      \n",
              "  <style>\n",
              "    .colab-df-container {\n",
              "      display:flex;\n",
              "      flex-wrap:wrap;\n",
              "      gap: 12px;\n",
              "    }\n",
              "\n",
              "    .colab-df-convert {\n",
              "      background-color: #E8F0FE;\n",
              "      border: none;\n",
              "      border-radius: 50%;\n",
              "      cursor: pointer;\n",
              "      display: none;\n",
              "      fill: #1967D2;\n",
              "      height: 32px;\n",
              "      padding: 0 0 0 0;\n",
              "      width: 32px;\n",
              "    }\n",
              "\n",
              "    .colab-df-convert:hover {\n",
              "      background-color: #E2EBFA;\n",
              "      box-shadow: 0px 1px 2px rgba(60, 64, 67, 0.3), 0px 1px 3px 1px rgba(60, 64, 67, 0.15);\n",
              "      fill: #174EA6;\n",
              "    }\n",
              "\n",
              "    [theme=dark] .colab-df-convert {\n",
              "      background-color: #3B4455;\n",
              "      fill: #D2E3FC;\n",
              "    }\n",
              "\n",
              "    [theme=dark] .colab-df-convert:hover {\n",
              "      background-color: #434B5C;\n",
              "      box-shadow: 0px 1px 3px 1px rgba(0, 0, 0, 0.15);\n",
              "      filter: drop-shadow(0px 1px 2px rgba(0, 0, 0, 0.3));\n",
              "      fill: #FFFFFF;\n",
              "    }\n",
              "  </style>\n",
              "\n",
              "      <script>\n",
              "        const buttonEl =\n",
              "          document.querySelector('#df-99873da6-b825-4625-9afc-b8c606c92679 button.colab-df-convert');\n",
              "        buttonEl.style.display =\n",
              "          google.colab.kernel.accessAllowed ? 'block' : 'none';\n",
              "\n",
              "        async function convertToInteractive(key) {\n",
              "          const element = document.querySelector('#df-99873da6-b825-4625-9afc-b8c606c92679');\n",
              "          const dataTable =\n",
              "            await google.colab.kernel.invokeFunction('convertToInteractive',\n",
              "                                                     [key], {});\n",
              "          if (!dataTable) return;\n",
              "\n",
              "          const docLinkHtml = 'Like what you see? Visit the ' +\n",
              "            '<a target=\"_blank\" href=https://colab.research.google.com/notebooks/data_table.ipynb>data table notebook</a>'\n",
              "            + ' to learn more about interactive tables.';\n",
              "          element.innerHTML = '';\n",
              "          dataTable['output_type'] = 'display_data';\n",
              "          await google.colab.output.renderOutput(dataTable, element);\n",
              "          const docLink = document.createElement('div');\n",
              "          docLink.innerHTML = docLinkHtml;\n",
              "          element.appendChild(docLink);\n",
              "        }\n",
              "      </script>\n",
              "    </div>\n",
              "  </div>\n",
              "  "
            ]
          },
          "metadata": {},
          "execution_count": 4
        }
      ]
    },
    {
      "cell_type": "markdown",
      "source": [
        "**MetaCritic User Reviews**"
      ],
      "metadata": {
        "id": "le_27R14KH9E"
      }
    },
    {
      "cell_type": "code",
      "source": [
        "dfMetaUser = pd.DataFrame(columns=['game', 'Meta_Review'])\n",
        "\n",
        "for i, url in enumerate(gameMetaUser):\n",
        "    game = gameName[i]\n",
        "    for page_num in range(45):\n",
        "        page_url = f\"{url}?page={page_num}\"\n",
        "        response = requests.get(page_url, headers={'User-Agent': 'Mozilla/5.0'})\n",
        "        if response.status_code != 200:\n",
        "            print(f\"Error: {response.status_code}\")\n",
        "            break\n",
        "        soup = BeautifulSoup(response.content, 'html.parser')\n",
        "        reviews = soup.find_all('div', {'class': 'review_content'})\n",
        "        if not reviews:\n",
        "            break\n",
        "        for review in reviews:\n",
        "            score = review.find('div', {'class': 'review_grade'}).text.strip()\n",
        "            text = review.find('div', {'class': 'review_body'}).text.strip()\n",
        "            dfMetaUser = dfMetaUser.append({'game': game, 'Meta_Review': text}, ignore_index=True)\n",
        "        time.sleep(1)"
      ],
      "metadata": {
        "id": "Z33jE0wk7sOs"
      },
      "execution_count": null,
      "outputs": []
    },
    {
      "cell_type": "code",
      "source": [
        "dfMetaUser"
      ],
      "metadata": {
        "colab": {
          "base_uri": "https://localhost:8080/",
          "height": 424
        },
        "id": "TnXivppx8Ozm",
        "outputId": "cf343e43-ec91-491d-87da-0aea1f96c382"
      },
      "execution_count": null,
      "outputs": [
        {
          "output_type": "execute_result",
          "data": {
            "text/plain": [
              "                            game  \\\n",
              "0                          CS:GO   \n",
              "1                          CS:GO   \n",
              "2                          CS:GO   \n",
              "3                          CS:GO   \n",
              "4                          CS:GO   \n",
              "...                          ...   \n",
              "3353  Resident Evil 7: Biohazard   \n",
              "3354  Resident Evil 7: Biohazard   \n",
              "3355  Resident Evil 7: Biohazard   \n",
              "3356  Resident Evil 7: Biohazard   \n",
              "3357  Resident Evil 7: Biohazard   \n",
              "\n",
              "                                            Meta_Review  \n",
              "0     CS:GO off the bat is a nice update to CS (havi...  \n",
              "1     I'm giving this game a 6/10 because it feels i...  \n",
              "2     Pretty ok. I was kinda hoping for something di...  \n",
              "3     This is the best Counter Strike TO DATE. They ...  \n",
              "4     After the huge success the Counter-Strike mod ...  \n",
              "...                                                 ...  \n",
              "3353  Whether played in VR or not, Resident Evil 7: ...  \n",
              "3354  Gets under your skin by erasing past frills an...  \n",
              "3355  Honestly, I don’t know if the world is ready f...  \n",
              "3356  Whether played in VR or not, Resident Evil 7: ...  \n",
              "3357  Gets under your skin by erasing past frills an...  \n",
              "\n",
              "[3358 rows x 2 columns]"
            ],
            "text/html": [
              "\n",
              "  <div id=\"df-b8cb0a64-6d73-4203-8211-7d4cac30d281\">\n",
              "    <div class=\"colab-df-container\">\n",
              "      <div>\n",
              "<style scoped>\n",
              "    .dataframe tbody tr th:only-of-type {\n",
              "        vertical-align: middle;\n",
              "    }\n",
              "\n",
              "    .dataframe tbody tr th {\n",
              "        vertical-align: top;\n",
              "    }\n",
              "\n",
              "    .dataframe thead th {\n",
              "        text-align: right;\n",
              "    }\n",
              "</style>\n",
              "<table border=\"1\" class=\"dataframe\">\n",
              "  <thead>\n",
              "    <tr style=\"text-align: right;\">\n",
              "      <th></th>\n",
              "      <th>game</th>\n",
              "      <th>Meta_Review</th>\n",
              "    </tr>\n",
              "  </thead>\n",
              "  <tbody>\n",
              "    <tr>\n",
              "      <th>0</th>\n",
              "      <td>CS:GO</td>\n",
              "      <td>CS:GO off the bat is a nice update to CS (havi...</td>\n",
              "    </tr>\n",
              "    <tr>\n",
              "      <th>1</th>\n",
              "      <td>CS:GO</td>\n",
              "      <td>I'm giving this game a 6/10 because it feels i...</td>\n",
              "    </tr>\n",
              "    <tr>\n",
              "      <th>2</th>\n",
              "      <td>CS:GO</td>\n",
              "      <td>Pretty ok. I was kinda hoping for something di...</td>\n",
              "    </tr>\n",
              "    <tr>\n",
              "      <th>3</th>\n",
              "      <td>CS:GO</td>\n",
              "      <td>This is the best Counter Strike TO DATE. They ...</td>\n",
              "    </tr>\n",
              "    <tr>\n",
              "      <th>4</th>\n",
              "      <td>CS:GO</td>\n",
              "      <td>After the huge success the Counter-Strike mod ...</td>\n",
              "    </tr>\n",
              "    <tr>\n",
              "      <th>...</th>\n",
              "      <td>...</td>\n",
              "      <td>...</td>\n",
              "    </tr>\n",
              "    <tr>\n",
              "      <th>3353</th>\n",
              "      <td>Resident Evil 7: Biohazard</td>\n",
              "      <td>Whether played in VR or not, Resident Evil 7: ...</td>\n",
              "    </tr>\n",
              "    <tr>\n",
              "      <th>3354</th>\n",
              "      <td>Resident Evil 7: Biohazard</td>\n",
              "      <td>Gets under your skin by erasing past frills an...</td>\n",
              "    </tr>\n",
              "    <tr>\n",
              "      <th>3355</th>\n",
              "      <td>Resident Evil 7: Biohazard</td>\n",
              "      <td>Honestly, I don’t know if the world is ready f...</td>\n",
              "    </tr>\n",
              "    <tr>\n",
              "      <th>3356</th>\n",
              "      <td>Resident Evil 7: Biohazard</td>\n",
              "      <td>Whether played in VR or not, Resident Evil 7: ...</td>\n",
              "    </tr>\n",
              "    <tr>\n",
              "      <th>3357</th>\n",
              "      <td>Resident Evil 7: Biohazard</td>\n",
              "      <td>Gets under your skin by erasing past frills an...</td>\n",
              "    </tr>\n",
              "  </tbody>\n",
              "</table>\n",
              "<p>3358 rows × 2 columns</p>\n",
              "</div>\n",
              "      <button class=\"colab-df-convert\" onclick=\"convertToInteractive('df-b8cb0a64-6d73-4203-8211-7d4cac30d281')\"\n",
              "              title=\"Convert this dataframe to an interactive table.\"\n",
              "              style=\"display:none;\">\n",
              "        \n",
              "  <svg xmlns=\"http://www.w3.org/2000/svg\" height=\"24px\"viewBox=\"0 0 24 24\"\n",
              "       width=\"24px\">\n",
              "    <path d=\"M0 0h24v24H0V0z\" fill=\"none\"/>\n",
              "    <path d=\"M18.56 5.44l.94 2.06.94-2.06 2.06-.94-2.06-.94-.94-2.06-.94 2.06-2.06.94zm-11 1L8.5 8.5l.94-2.06 2.06-.94-2.06-.94L8.5 2.5l-.94 2.06-2.06.94zm10 10l.94 2.06.94-2.06 2.06-.94-2.06-.94-.94-2.06-.94 2.06-2.06.94z\"/><path d=\"M17.41 7.96l-1.37-1.37c-.4-.4-.92-.59-1.43-.59-.52 0-1.04.2-1.43.59L10.3 9.45l-7.72 7.72c-.78.78-.78 2.05 0 2.83L4 21.41c.39.39.9.59 1.41.59.51 0 1.02-.2 1.41-.59l7.78-7.78 2.81-2.81c.8-.78.8-2.07 0-2.86zM5.41 20L4 18.59l7.72-7.72 1.47 1.35L5.41 20z\"/>\n",
              "  </svg>\n",
              "      </button>\n",
              "      \n",
              "  <style>\n",
              "    .colab-df-container {\n",
              "      display:flex;\n",
              "      flex-wrap:wrap;\n",
              "      gap: 12px;\n",
              "    }\n",
              "\n",
              "    .colab-df-convert {\n",
              "      background-color: #E8F0FE;\n",
              "      border: none;\n",
              "      border-radius: 50%;\n",
              "      cursor: pointer;\n",
              "      display: none;\n",
              "      fill: #1967D2;\n",
              "      height: 32px;\n",
              "      padding: 0 0 0 0;\n",
              "      width: 32px;\n",
              "    }\n",
              "\n",
              "    .colab-df-convert:hover {\n",
              "      background-color: #E2EBFA;\n",
              "      box-shadow: 0px 1px 2px rgba(60, 64, 67, 0.3), 0px 1px 3px 1px rgba(60, 64, 67, 0.15);\n",
              "      fill: #174EA6;\n",
              "    }\n",
              "\n",
              "    [theme=dark] .colab-df-convert {\n",
              "      background-color: #3B4455;\n",
              "      fill: #D2E3FC;\n",
              "    }\n",
              "\n",
              "    [theme=dark] .colab-df-convert:hover {\n",
              "      background-color: #434B5C;\n",
              "      box-shadow: 0px 1px 3px 1px rgba(0, 0, 0, 0.15);\n",
              "      filter: drop-shadow(0px 1px 2px rgba(0, 0, 0, 0.3));\n",
              "      fill: #FFFFFF;\n",
              "    }\n",
              "  </style>\n",
              "\n",
              "      <script>\n",
              "        const buttonEl =\n",
              "          document.querySelector('#df-b8cb0a64-6d73-4203-8211-7d4cac30d281 button.colab-df-convert');\n",
              "        buttonEl.style.display =\n",
              "          google.colab.kernel.accessAllowed ? 'block' : 'none';\n",
              "\n",
              "        async function convertToInteractive(key) {\n",
              "          const element = document.querySelector('#df-b8cb0a64-6d73-4203-8211-7d4cac30d281');\n",
              "          const dataTable =\n",
              "            await google.colab.kernel.invokeFunction('convertToInteractive',\n",
              "                                                     [key], {});\n",
              "          if (!dataTable) return;\n",
              "\n",
              "          const docLinkHtml = 'Like what you see? Visit the ' +\n",
              "            '<a target=\"_blank\" href=https://colab.research.google.com/notebooks/data_table.ipynb>data table notebook</a>'\n",
              "            + ' to learn more about interactive tables.';\n",
              "          element.innerHTML = '';\n",
              "          dataTable['output_type'] = 'display_data';\n",
              "          await google.colab.output.renderOutput(dataTable, element);\n",
              "          const docLink = document.createElement('div');\n",
              "          docLink.innerHTML = docLinkHtml;\n",
              "          element.appendChild(docLink);\n",
              "        }\n",
              "      </script>\n",
              "    </div>\n",
              "  </div>\n",
              "  "
            ]
          },
          "metadata": {},
          "execution_count": 6
        }
      ]
    },
    {
      "cell_type": "markdown",
      "source": [
        "**Writeup**\n"
      ],
      "metadata": {
        "id": "aaT5tkl2oo_E"
      }
    },
    {
      "cell_type": "markdown",
      "source": [
        "**Sentiment Values**"
      ],
      "metadata": {
        "id": "fG_6EDWhx4q2"
      }
    },
    {
      "cell_type": "code",
      "source": [
        "import nltk\n",
        "nltk.downloader.download('vader_lexicon')\n",
        "from nltk.sentiment.vader import SentimentIntensityAnalyzer\n",
        "vader = SentimentIntensityAnalyzer()"
      ],
      "metadata": {
        "id": "S0Nem9I9x4IV",
        "colab": {
          "base_uri": "https://localhost:8080/"
        },
        "outputId": "48225d56-8f60-4b3b-d35e-b2a856729ea8"
      },
      "execution_count": null,
      "outputs": [
        {
          "output_type": "stream",
          "name": "stderr",
          "text": [
            "[nltk_data] Downloading package vader_lexicon to /root/nltk_data...\n",
            "[nltk_data]   Package vader_lexicon is already up-to-date!\n"
          ]
        }
      ]
    },
    {
      "cell_type": "markdown",
      "source": [
        "**Players Sentiment Value**"
      ],
      "metadata": {
        "id": "2hAxHdvHkQ0D"
      }
    },
    {
      "cell_type": "code",
      "source": [
        "len(dfSteam['Review'])"
      ],
      "metadata": {
        "id": "4O-HfmB6BGi1",
        "colab": {
          "base_uri": "https://localhost:8080/"
        },
        "outputId": "868b7b65-b60c-4d4f-b5af-17efb0b811de"
      },
      "execution_count": null,
      "outputs": [
        {
          "output_type": "execute_result",
          "data": {
            "text/plain": [
              "4000"
            ]
          },
          "metadata": {},
          "execution_count": 8
        }
      ]
    },
    {
      "cell_type": "code",
      "source": [
        "sentList = []\n",
        "CleanedDF = pd.DataFrame()\n",
        "CleanedDF['Review'] = dfSteam['Review']\n",
        "for sent in range(len(dfSteam['Review'])):\n",
        "  sentList.append(vader.polarity_scores(dfSteam['Review'][sent])['compound'])\n",
        "dfSteam['Sentiment'] = sentList\n",
        "dfSteam"
      ],
      "metadata": {
        "id": "a9KpalbhkQdp",
        "colab": {
          "base_uri": "https://localhost:8080/",
          "height": 424
        },
        "outputId": "e0e8959f-0f88-4426-dde6-72a97266d119"
      },
      "execution_count": null,
      "outputs": [
        {
          "output_type": "execute_result",
          "data": {
            "text/plain": [
              "                            Game  \\\n",
              "0                          CS:GO   \n",
              "1                          CS:GO   \n",
              "2                          CS:GO   \n",
              "3                          CS:GO   \n",
              "4                          CS:GO   \n",
              "...                          ...   \n",
              "3995  Resident Evil 7: Biohazard   \n",
              "3996  Resident Evil 7: Biohazard   \n",
              "3997  Resident Evil 7: Biohazard   \n",
              "3998  Resident Evil 7: Biohazard   \n",
              "3999  Resident Evil 7: Biohazard   \n",
              "\n",
              "                                                 Review  Voted_Up  Sentiment  \n",
              "0     For the optimal experiences play in silver ran...      True     0.6486  \n",
              "1     Guys, help out, my wife said if there are 1000...      True     0.7825  \n",
              "2     The best game to learn bad words\\nFor example,...      True     0.1779  \n",
              "3     Pretty new to the game but I've learned some t...      True     0.9456  \n",
              "4     This is one of the greatest games ever💗💗💗 If y...      True     0.3164  \n",
              "...                                                 ...       ...        ...  \n",
              "3995  Quick Review:\\n \\n   I started playing \"Reside...      True     0.8761  \n",
              "3996       It was a great start of a resident evil game      True    -0.0772  \n",
              "3997  One of the best survival horror settings, maki...      True     0.6690  \n",
              "3998                                                Yes      True     0.4019  \n",
              "3999  To be honest, this game saved the resident evi...      True    -0.9862  \n",
              "\n",
              "[4000 rows x 4 columns]"
            ],
            "text/html": [
              "\n",
              "  <div id=\"df-2e288e83-b695-48d4-9a1b-5490bf969c53\">\n",
              "    <div class=\"colab-df-container\">\n",
              "      <div>\n",
              "<style scoped>\n",
              "    .dataframe tbody tr th:only-of-type {\n",
              "        vertical-align: middle;\n",
              "    }\n",
              "\n",
              "    .dataframe tbody tr th {\n",
              "        vertical-align: top;\n",
              "    }\n",
              "\n",
              "    .dataframe thead th {\n",
              "        text-align: right;\n",
              "    }\n",
              "</style>\n",
              "<table border=\"1\" class=\"dataframe\">\n",
              "  <thead>\n",
              "    <tr style=\"text-align: right;\">\n",
              "      <th></th>\n",
              "      <th>Game</th>\n",
              "      <th>Review</th>\n",
              "      <th>Voted_Up</th>\n",
              "      <th>Sentiment</th>\n",
              "    </tr>\n",
              "  </thead>\n",
              "  <tbody>\n",
              "    <tr>\n",
              "      <th>0</th>\n",
              "      <td>CS:GO</td>\n",
              "      <td>For the optimal experiences play in silver ran...</td>\n",
              "      <td>True</td>\n",
              "      <td>0.6486</td>\n",
              "    </tr>\n",
              "    <tr>\n",
              "      <th>1</th>\n",
              "      <td>CS:GO</td>\n",
              "      <td>Guys, help out, my wife said if there are 1000...</td>\n",
              "      <td>True</td>\n",
              "      <td>0.7825</td>\n",
              "    </tr>\n",
              "    <tr>\n",
              "      <th>2</th>\n",
              "      <td>CS:GO</td>\n",
              "      <td>The best game to learn bad words\\nFor example,...</td>\n",
              "      <td>True</td>\n",
              "      <td>0.1779</td>\n",
              "    </tr>\n",
              "    <tr>\n",
              "      <th>3</th>\n",
              "      <td>CS:GO</td>\n",
              "      <td>Pretty new to the game but I've learned some t...</td>\n",
              "      <td>True</td>\n",
              "      <td>0.9456</td>\n",
              "    </tr>\n",
              "    <tr>\n",
              "      <th>4</th>\n",
              "      <td>CS:GO</td>\n",
              "      <td>This is one of the greatest games ever💗💗💗 If y...</td>\n",
              "      <td>True</td>\n",
              "      <td>0.3164</td>\n",
              "    </tr>\n",
              "    <tr>\n",
              "      <th>...</th>\n",
              "      <td>...</td>\n",
              "      <td>...</td>\n",
              "      <td>...</td>\n",
              "      <td>...</td>\n",
              "    </tr>\n",
              "    <tr>\n",
              "      <th>3995</th>\n",
              "      <td>Resident Evil 7: Biohazard</td>\n",
              "      <td>Quick Review:\\n \\n   I started playing \"Reside...</td>\n",
              "      <td>True</td>\n",
              "      <td>0.8761</td>\n",
              "    </tr>\n",
              "    <tr>\n",
              "      <th>3996</th>\n",
              "      <td>Resident Evil 7: Biohazard</td>\n",
              "      <td>It was a great start of a resident evil game</td>\n",
              "      <td>True</td>\n",
              "      <td>-0.0772</td>\n",
              "    </tr>\n",
              "    <tr>\n",
              "      <th>3997</th>\n",
              "      <td>Resident Evil 7: Biohazard</td>\n",
              "      <td>One of the best survival horror settings, maki...</td>\n",
              "      <td>True</td>\n",
              "      <td>0.6690</td>\n",
              "    </tr>\n",
              "    <tr>\n",
              "      <th>3998</th>\n",
              "      <td>Resident Evil 7: Biohazard</td>\n",
              "      <td>Yes</td>\n",
              "      <td>True</td>\n",
              "      <td>0.4019</td>\n",
              "    </tr>\n",
              "    <tr>\n",
              "      <th>3999</th>\n",
              "      <td>Resident Evil 7: Biohazard</td>\n",
              "      <td>To be honest, this game saved the resident evi...</td>\n",
              "      <td>True</td>\n",
              "      <td>-0.9862</td>\n",
              "    </tr>\n",
              "  </tbody>\n",
              "</table>\n",
              "<p>4000 rows × 4 columns</p>\n",
              "</div>\n",
              "      <button class=\"colab-df-convert\" onclick=\"convertToInteractive('df-2e288e83-b695-48d4-9a1b-5490bf969c53')\"\n",
              "              title=\"Convert this dataframe to an interactive table.\"\n",
              "              style=\"display:none;\">\n",
              "        \n",
              "  <svg xmlns=\"http://www.w3.org/2000/svg\" height=\"24px\"viewBox=\"0 0 24 24\"\n",
              "       width=\"24px\">\n",
              "    <path d=\"M0 0h24v24H0V0z\" fill=\"none\"/>\n",
              "    <path d=\"M18.56 5.44l.94 2.06.94-2.06 2.06-.94-2.06-.94-.94-2.06-.94 2.06-2.06.94zm-11 1L8.5 8.5l.94-2.06 2.06-.94-2.06-.94L8.5 2.5l-.94 2.06-2.06.94zm10 10l.94 2.06.94-2.06 2.06-.94-2.06-.94-.94-2.06-.94 2.06-2.06.94z\"/><path d=\"M17.41 7.96l-1.37-1.37c-.4-.4-.92-.59-1.43-.59-.52 0-1.04.2-1.43.59L10.3 9.45l-7.72 7.72c-.78.78-.78 2.05 0 2.83L4 21.41c.39.39.9.59 1.41.59.51 0 1.02-.2 1.41-.59l7.78-7.78 2.81-2.81c.8-.78.8-2.07 0-2.86zM5.41 20L4 18.59l7.72-7.72 1.47 1.35L5.41 20z\"/>\n",
              "  </svg>\n",
              "      </button>\n",
              "      \n",
              "  <style>\n",
              "    .colab-df-container {\n",
              "      display:flex;\n",
              "      flex-wrap:wrap;\n",
              "      gap: 12px;\n",
              "    }\n",
              "\n",
              "    .colab-df-convert {\n",
              "      background-color: #E8F0FE;\n",
              "      border: none;\n",
              "      border-radius: 50%;\n",
              "      cursor: pointer;\n",
              "      display: none;\n",
              "      fill: #1967D2;\n",
              "      height: 32px;\n",
              "      padding: 0 0 0 0;\n",
              "      width: 32px;\n",
              "    }\n",
              "\n",
              "    .colab-df-convert:hover {\n",
              "      background-color: #E2EBFA;\n",
              "      box-shadow: 0px 1px 2px rgba(60, 64, 67, 0.3), 0px 1px 3px 1px rgba(60, 64, 67, 0.15);\n",
              "      fill: #174EA6;\n",
              "    }\n",
              "\n",
              "    [theme=dark] .colab-df-convert {\n",
              "      background-color: #3B4455;\n",
              "      fill: #D2E3FC;\n",
              "    }\n",
              "\n",
              "    [theme=dark] .colab-df-convert:hover {\n",
              "      background-color: #434B5C;\n",
              "      box-shadow: 0px 1px 3px 1px rgba(0, 0, 0, 0.15);\n",
              "      filter: drop-shadow(0px 1px 2px rgba(0, 0, 0, 0.3));\n",
              "      fill: #FFFFFF;\n",
              "    }\n",
              "  </style>\n",
              "\n",
              "      <script>\n",
              "        const buttonEl =\n",
              "          document.querySelector('#df-2e288e83-b695-48d4-9a1b-5490bf969c53 button.colab-df-convert');\n",
              "        buttonEl.style.display =\n",
              "          google.colab.kernel.accessAllowed ? 'block' : 'none';\n",
              "\n",
              "        async function convertToInteractive(key) {\n",
              "          const element = document.querySelector('#df-2e288e83-b695-48d4-9a1b-5490bf969c53');\n",
              "          const dataTable =\n",
              "            await google.colab.kernel.invokeFunction('convertToInteractive',\n",
              "                                                     [key], {});\n",
              "          if (!dataTable) return;\n",
              "\n",
              "          const docLinkHtml = 'Like what you see? Visit the ' +\n",
              "            '<a target=\"_blank\" href=https://colab.research.google.com/notebooks/data_table.ipynb>data table notebook</a>'\n",
              "            + ' to learn more about interactive tables.';\n",
              "          element.innerHTML = '';\n",
              "          dataTable['output_type'] = 'display_data';\n",
              "          await google.colab.output.renderOutput(dataTable, element);\n",
              "          const docLink = document.createElement('div');\n",
              "          docLink.innerHTML = docLinkHtml;\n",
              "          element.appendChild(docLink);\n",
              "        }\n",
              "      </script>\n",
              "    </div>\n",
              "  </div>\n",
              "  "
            ]
          },
          "metadata": {},
          "execution_count": 9
        }
      ]
    },
    {
      "cell_type": "code",
      "source": [
        "from sklearn.model_selection import train_test_split\n",
        "from sklearn.feature_extraction.text import CountVectorizer\n",
        "from sklearn.linear_model import LinearRegression\n",
        "from sklearn.naive_bayes import MultinomialNB\n",
        "\n",
        "dfSteam[\"isTroll\"] = dfSteam[\"Sentiment\"].apply(lambda x: 1 if x < -0.5 else 0)\n",
        "xTrain, xTest, yTrain, yTest = train_test_split(dfSteam[\"Review\"], dfSteam[\"isTroll\"], test_size=0.3)\n",
        "count = CountVectorizer()\n",
        "xTrainCounts = count.fit_transform(xTrain)\n",
        "xTestCounts = count.transform(xTest)\n",
        "sentimentClass = MultinomialNB()\n",
        "sentimentClass.fit(xTrainCounts, yTrain)\n",
        "\n",
        "accuracyScore = sentimentClass.score(xTestCounts, yTest)\n",
        "accuracyScore"
      ],
      "metadata": {
        "colab": {
          "base_uri": "https://localhost:8080/"
        },
        "id": "G57xJ4jEq48n",
        "outputId": "750f3ac3-d1db-497c-b83a-d0d9ecfc9abc"
      },
      "execution_count": null,
      "outputs": [
        {
          "output_type": "execute_result",
          "data": {
            "text/plain": [
              "0.8025"
            ]
          },
          "metadata": {},
          "execution_count": 10
        }
      ]
    },
    {
      "cell_type": "code",
      "source": [
        "troll_count = (dfSteam[\"isTroll\"] == 1).sum()\n",
        "notATroll = (dfSteam[\"isTroll\"] == 0).sum()\n",
        "notATroll"
      ],
      "metadata": {
        "colab": {
          "base_uri": "https://localhost:8080/"
        },
        "id": "2lbMiSv-wFTc",
        "outputId": "40e8a0ba-006d-43b5-a04e-a8db4ff46226"
      },
      "execution_count": null,
      "outputs": [
        {
          "output_type": "execute_result",
          "data": {
            "text/plain": [
              "3006"
            ]
          },
          "metadata": {},
          "execution_count": 11
        }
      ]
    },
    {
      "cell_type": "code",
      "source": [
        "troll_count"
      ],
      "metadata": {
        "colab": {
          "base_uri": "https://localhost:8080/"
        },
        "id": "leVqtzQVxynK",
        "outputId": "a246661c-3511-42ed-d14f-327236c140a1"
      },
      "execution_count": null,
      "outputs": [
        {
          "output_type": "execute_result",
          "data": {
            "text/plain": [
              "994"
            ]
          },
          "metadata": {},
          "execution_count": 12
        }
      ]
    },
    {
      "cell_type": "code",
      "source": [
        "trollRows = dfSteam.loc[dfSteam['isTroll'] == 1]\n",
        "trollRows"
      ],
      "metadata": {
        "colab": {
          "base_uri": "https://localhost:8080/",
          "height": 424
        },
        "id": "kDE2LuGf1fzt",
        "outputId": "0f719a50-af3f-40c0-feed-72af67bb9367"
      },
      "execution_count": null,
      "outputs": [
        {
          "output_type": "execute_result",
          "data": {
            "text/plain": [
              "                            Game  \\\n",
              "18                         CS:GO   \n",
              "19                         CS:GO   \n",
              "57                         CS:GO   \n",
              "65                         CS:GO   \n",
              "79                         CS:GO   \n",
              "...                          ...   \n",
              "3975  Resident Evil 7: Biohazard   \n",
              "3980  Resident Evil 7: Biohazard   \n",
              "3982  Resident Evil 7: Biohazard   \n",
              "3994  Resident Evil 7: Biohazard   \n",
              "3999  Resident Evil 7: Biohazard   \n",
              "\n",
              "                                                 Review  Voted_Up  Sentiment  \\\n",
              "18                                     turned me racist     False    -0.6124   \n",
              "19    Love to hate it. Still cant uninstall it. \\n\\n...      True    -0.5267   \n",
              "57                      good but need BETTER ANTI CHEAT      True    -0.5022   \n",
              "65                                    why so many cheat      True    -0.5070   \n",
              "79    A good but old game that's been ruined, full o...     False    -0.9792   \n",
              "...                                                 ...       ...        ...   \n",
              "3975  Go tell Aunt Rhody\\nGo tell Aunt Rhody\\nGo tel...      True    -0.6486   \n",
              "3980                   I can kill my wife in this game.      True    -0.6908   \n",
              "3982              I hate this fucking house. Let me out      True    -0.5719   \n",
              "3994  An intense survival horror adventure. You're s...      True    -0.8689   \n",
              "3999  To be honest, this game saved the resident evi...      True    -0.9862   \n",
              "\n",
              "      isTroll  \n",
              "18          1  \n",
              "19          1  \n",
              "57          1  \n",
              "65          1  \n",
              "79          1  \n",
              "...       ...  \n",
              "3975        1  \n",
              "3980        1  \n",
              "3982        1  \n",
              "3994        1  \n",
              "3999        1  \n",
              "\n",
              "[994 rows x 5 columns]"
            ],
            "text/html": [
              "\n",
              "  <div id=\"df-8be22de0-c1ab-4bcf-bfc3-b090187abb2e\">\n",
              "    <div class=\"colab-df-container\">\n",
              "      <div>\n",
              "<style scoped>\n",
              "    .dataframe tbody tr th:only-of-type {\n",
              "        vertical-align: middle;\n",
              "    }\n",
              "\n",
              "    .dataframe tbody tr th {\n",
              "        vertical-align: top;\n",
              "    }\n",
              "\n",
              "    .dataframe thead th {\n",
              "        text-align: right;\n",
              "    }\n",
              "</style>\n",
              "<table border=\"1\" class=\"dataframe\">\n",
              "  <thead>\n",
              "    <tr style=\"text-align: right;\">\n",
              "      <th></th>\n",
              "      <th>Game</th>\n",
              "      <th>Review</th>\n",
              "      <th>Voted_Up</th>\n",
              "      <th>Sentiment</th>\n",
              "      <th>isTroll</th>\n",
              "    </tr>\n",
              "  </thead>\n",
              "  <tbody>\n",
              "    <tr>\n",
              "      <th>18</th>\n",
              "      <td>CS:GO</td>\n",
              "      <td>turned me racist</td>\n",
              "      <td>False</td>\n",
              "      <td>-0.6124</td>\n",
              "      <td>1</td>\n",
              "    </tr>\n",
              "    <tr>\n",
              "      <th>19</th>\n",
              "      <td>CS:GO</td>\n",
              "      <td>Love to hate it. Still cant uninstall it. \\n\\n...</td>\n",
              "      <td>True</td>\n",
              "      <td>-0.5267</td>\n",
              "      <td>1</td>\n",
              "    </tr>\n",
              "    <tr>\n",
              "      <th>57</th>\n",
              "      <td>CS:GO</td>\n",
              "      <td>good but need BETTER ANTI CHEAT</td>\n",
              "      <td>True</td>\n",
              "      <td>-0.5022</td>\n",
              "      <td>1</td>\n",
              "    </tr>\n",
              "    <tr>\n",
              "      <th>65</th>\n",
              "      <td>CS:GO</td>\n",
              "      <td>why so many cheat</td>\n",
              "      <td>True</td>\n",
              "      <td>-0.5070</td>\n",
              "      <td>1</td>\n",
              "    </tr>\n",
              "    <tr>\n",
              "      <th>79</th>\n",
              "      <td>CS:GO</td>\n",
              "      <td>A good but old game that's been ruined, full o...</td>\n",
              "      <td>False</td>\n",
              "      <td>-0.9792</td>\n",
              "      <td>1</td>\n",
              "    </tr>\n",
              "    <tr>\n",
              "      <th>...</th>\n",
              "      <td>...</td>\n",
              "      <td>...</td>\n",
              "      <td>...</td>\n",
              "      <td>...</td>\n",
              "      <td>...</td>\n",
              "    </tr>\n",
              "    <tr>\n",
              "      <th>3975</th>\n",
              "      <td>Resident Evil 7: Biohazard</td>\n",
              "      <td>Go tell Aunt Rhody\\nGo tell Aunt Rhody\\nGo tel...</td>\n",
              "      <td>True</td>\n",
              "      <td>-0.6486</td>\n",
              "      <td>1</td>\n",
              "    </tr>\n",
              "    <tr>\n",
              "      <th>3980</th>\n",
              "      <td>Resident Evil 7: Biohazard</td>\n",
              "      <td>I can kill my wife in this game.</td>\n",
              "      <td>True</td>\n",
              "      <td>-0.6908</td>\n",
              "      <td>1</td>\n",
              "    </tr>\n",
              "    <tr>\n",
              "      <th>3982</th>\n",
              "      <td>Resident Evil 7: Biohazard</td>\n",
              "      <td>I hate this fucking house. Let me out</td>\n",
              "      <td>True</td>\n",
              "      <td>-0.5719</td>\n",
              "      <td>1</td>\n",
              "    </tr>\n",
              "    <tr>\n",
              "      <th>3994</th>\n",
              "      <td>Resident Evil 7: Biohazard</td>\n",
              "      <td>An intense survival horror adventure. You're s...</td>\n",
              "      <td>True</td>\n",
              "      <td>-0.8689</td>\n",
              "      <td>1</td>\n",
              "    </tr>\n",
              "    <tr>\n",
              "      <th>3999</th>\n",
              "      <td>Resident Evil 7: Biohazard</td>\n",
              "      <td>To be honest, this game saved the resident evi...</td>\n",
              "      <td>True</td>\n",
              "      <td>-0.9862</td>\n",
              "      <td>1</td>\n",
              "    </tr>\n",
              "  </tbody>\n",
              "</table>\n",
              "<p>994 rows × 5 columns</p>\n",
              "</div>\n",
              "      <button class=\"colab-df-convert\" onclick=\"convertToInteractive('df-8be22de0-c1ab-4bcf-bfc3-b090187abb2e')\"\n",
              "              title=\"Convert this dataframe to an interactive table.\"\n",
              "              style=\"display:none;\">\n",
              "        \n",
              "  <svg xmlns=\"http://www.w3.org/2000/svg\" height=\"24px\"viewBox=\"0 0 24 24\"\n",
              "       width=\"24px\">\n",
              "    <path d=\"M0 0h24v24H0V0z\" fill=\"none\"/>\n",
              "    <path d=\"M18.56 5.44l.94 2.06.94-2.06 2.06-.94-2.06-.94-.94-2.06-.94 2.06-2.06.94zm-11 1L8.5 8.5l.94-2.06 2.06-.94-2.06-.94L8.5 2.5l-.94 2.06-2.06.94zm10 10l.94 2.06.94-2.06 2.06-.94-2.06-.94-.94-2.06-.94 2.06-2.06.94z\"/><path d=\"M17.41 7.96l-1.37-1.37c-.4-.4-.92-.59-1.43-.59-.52 0-1.04.2-1.43.59L10.3 9.45l-7.72 7.72c-.78.78-.78 2.05 0 2.83L4 21.41c.39.39.9.59 1.41.59.51 0 1.02-.2 1.41-.59l7.78-7.78 2.81-2.81c.8-.78.8-2.07 0-2.86zM5.41 20L4 18.59l7.72-7.72 1.47 1.35L5.41 20z\"/>\n",
              "  </svg>\n",
              "      </button>\n",
              "      \n",
              "  <style>\n",
              "    .colab-df-container {\n",
              "      display:flex;\n",
              "      flex-wrap:wrap;\n",
              "      gap: 12px;\n",
              "    }\n",
              "\n",
              "    .colab-df-convert {\n",
              "      background-color: #E8F0FE;\n",
              "      border: none;\n",
              "      border-radius: 50%;\n",
              "      cursor: pointer;\n",
              "      display: none;\n",
              "      fill: #1967D2;\n",
              "      height: 32px;\n",
              "      padding: 0 0 0 0;\n",
              "      width: 32px;\n",
              "    }\n",
              "\n",
              "    .colab-df-convert:hover {\n",
              "      background-color: #E2EBFA;\n",
              "      box-shadow: 0px 1px 2px rgba(60, 64, 67, 0.3), 0px 1px 3px 1px rgba(60, 64, 67, 0.15);\n",
              "      fill: #174EA6;\n",
              "    }\n",
              "\n",
              "    [theme=dark] .colab-df-convert {\n",
              "      background-color: #3B4455;\n",
              "      fill: #D2E3FC;\n",
              "    }\n",
              "\n",
              "    [theme=dark] .colab-df-convert:hover {\n",
              "      background-color: #434B5C;\n",
              "      box-shadow: 0px 1px 3px 1px rgba(0, 0, 0, 0.15);\n",
              "      filter: drop-shadow(0px 1px 2px rgba(0, 0, 0, 0.3));\n",
              "      fill: #FFFFFF;\n",
              "    }\n",
              "  </style>\n",
              "\n",
              "      <script>\n",
              "        const buttonEl =\n",
              "          document.querySelector('#df-8be22de0-c1ab-4bcf-bfc3-b090187abb2e button.colab-df-convert');\n",
              "        buttonEl.style.display =\n",
              "          google.colab.kernel.accessAllowed ? 'block' : 'none';\n",
              "\n",
              "        async function convertToInteractive(key) {\n",
              "          const element = document.querySelector('#df-8be22de0-c1ab-4bcf-bfc3-b090187abb2e');\n",
              "          const dataTable =\n",
              "            await google.colab.kernel.invokeFunction('convertToInteractive',\n",
              "                                                     [key], {});\n",
              "          if (!dataTable) return;\n",
              "\n",
              "          const docLinkHtml = 'Like what you see? Visit the ' +\n",
              "            '<a target=\"_blank\" href=https://colab.research.google.com/notebooks/data_table.ipynb>data table notebook</a>'\n",
              "            + ' to learn more about interactive tables.';\n",
              "          element.innerHTML = '';\n",
              "          dataTable['output_type'] = 'display_data';\n",
              "          await google.colab.output.renderOutput(dataTable, element);\n",
              "          const docLink = document.createElement('div');\n",
              "          docLink.innerHTML = docLinkHtml;\n",
              "          element.appendChild(docLink);\n",
              "        }\n",
              "      </script>\n",
              "    </div>\n",
              "  </div>\n",
              "  "
            ]
          },
          "metadata": {},
          "execution_count": 13
        }
      ]
    },
    {
      "cell_type": "markdown",
      "source": [
        "**Critics Sentiment Value**"
      ],
      "metadata": {
        "id": "aviZ1scnkMfC"
      }
    },
    {
      "cell_type": "code",
      "source": [
        "sentList = []\n",
        "for sent in range(len(dfMeta['Critic_Review'])):\n",
        "  sentList.append(vader.polarity_scores(dfMeta['Critic_Review'][sent])['compound'])\n",
        "dfMeta['Critic_Sentiment'] = sentList\n",
        "dfMeta"
      ],
      "metadata": {
        "id": "pH0mZx7_Mp2v",
        "colab": {
          "base_uri": "https://localhost:8080/",
          "height": 424
        },
        "outputId": "1151c104-07d0-4da4-e70b-30955349deba"
      },
      "execution_count": null,
      "outputs": [
        {
          "output_type": "execute_result",
          "data": {
            "text/plain": [
              "                           Game  \\\n",
              "0                         CS:GO   \n",
              "1                         CS:GO   \n",
              "2                         CS:GO   \n",
              "3                         CS:GO   \n",
              "4                         CS:GO   \n",
              "..                          ...   \n",
              "404  Resident Evil 7: Biohazard   \n",
              "405  Resident Evil 7: Biohazard   \n",
              "406  Resident Evil 7: Biohazard   \n",
              "407  Resident Evil 7: Biohazard   \n",
              "408  Resident Evil 7: Biohazard   \n",
              "\n",
              "                                         Critic_Review  Critic_Sentiment  \n",
              "0    It may lack some of the community niceties, be...            0.6187  \n",
              "1    Brilliant old-school shooter has convinced us ...            0.5267  \n",
              "2    The new Counter Strike game is the king of tac...            0.9001  \n",
              "3    In the end, CS:GO is CS. There's something to ...            0.5368  \n",
              "4    At the end, what matters is not if CS:GO is in...            0.5986  \n",
              "..                                                 ...               ...  \n",
              "404  A bold and successful reinvention of the franc...            0.9240  \n",
              "405  From its opening unhinged riff on Texas Chains...           -0.3818  \n",
              "406  best resident evil since 4, its actually scary...           -0.9442  \n",
              "407  This game isn't Resident Evil I give it a 4 ov...            0.1485  \n",
              "408  I never was a big Resident Evil fan until I de...            0.9422  \n",
              "\n",
              "[409 rows x 3 columns]"
            ],
            "text/html": [
              "\n",
              "  <div id=\"df-b08184e9-042a-4ddd-a8c6-1e10a46a33c9\">\n",
              "    <div class=\"colab-df-container\">\n",
              "      <div>\n",
              "<style scoped>\n",
              "    .dataframe tbody tr th:only-of-type {\n",
              "        vertical-align: middle;\n",
              "    }\n",
              "\n",
              "    .dataframe tbody tr th {\n",
              "        vertical-align: top;\n",
              "    }\n",
              "\n",
              "    .dataframe thead th {\n",
              "        text-align: right;\n",
              "    }\n",
              "</style>\n",
              "<table border=\"1\" class=\"dataframe\">\n",
              "  <thead>\n",
              "    <tr style=\"text-align: right;\">\n",
              "      <th></th>\n",
              "      <th>Game</th>\n",
              "      <th>Critic_Review</th>\n",
              "      <th>Critic_Sentiment</th>\n",
              "    </tr>\n",
              "  </thead>\n",
              "  <tbody>\n",
              "    <tr>\n",
              "      <th>0</th>\n",
              "      <td>CS:GO</td>\n",
              "      <td>It may lack some of the community niceties, be...</td>\n",
              "      <td>0.6187</td>\n",
              "    </tr>\n",
              "    <tr>\n",
              "      <th>1</th>\n",
              "      <td>CS:GO</td>\n",
              "      <td>Brilliant old-school shooter has convinced us ...</td>\n",
              "      <td>0.5267</td>\n",
              "    </tr>\n",
              "    <tr>\n",
              "      <th>2</th>\n",
              "      <td>CS:GO</td>\n",
              "      <td>The new Counter Strike game is the king of tac...</td>\n",
              "      <td>0.9001</td>\n",
              "    </tr>\n",
              "    <tr>\n",
              "      <th>3</th>\n",
              "      <td>CS:GO</td>\n",
              "      <td>In the end, CS:GO is CS. There's something to ...</td>\n",
              "      <td>0.5368</td>\n",
              "    </tr>\n",
              "    <tr>\n",
              "      <th>4</th>\n",
              "      <td>CS:GO</td>\n",
              "      <td>At the end, what matters is not if CS:GO is in...</td>\n",
              "      <td>0.5986</td>\n",
              "    </tr>\n",
              "    <tr>\n",
              "      <th>...</th>\n",
              "      <td>...</td>\n",
              "      <td>...</td>\n",
              "      <td>...</td>\n",
              "    </tr>\n",
              "    <tr>\n",
              "      <th>404</th>\n",
              "      <td>Resident Evil 7: Biohazard</td>\n",
              "      <td>A bold and successful reinvention of the franc...</td>\n",
              "      <td>0.9240</td>\n",
              "    </tr>\n",
              "    <tr>\n",
              "      <th>405</th>\n",
              "      <td>Resident Evil 7: Biohazard</td>\n",
              "      <td>From its opening unhinged riff on Texas Chains...</td>\n",
              "      <td>-0.3818</td>\n",
              "    </tr>\n",
              "    <tr>\n",
              "      <th>406</th>\n",
              "      <td>Resident Evil 7: Biohazard</td>\n",
              "      <td>best resident evil since 4, its actually scary...</td>\n",
              "      <td>-0.9442</td>\n",
              "    </tr>\n",
              "    <tr>\n",
              "      <th>407</th>\n",
              "      <td>Resident Evil 7: Biohazard</td>\n",
              "      <td>This game isn't Resident Evil I give it a 4 ov...</td>\n",
              "      <td>0.1485</td>\n",
              "    </tr>\n",
              "    <tr>\n",
              "      <th>408</th>\n",
              "      <td>Resident Evil 7: Biohazard</td>\n",
              "      <td>I never was a big Resident Evil fan until I de...</td>\n",
              "      <td>0.9422</td>\n",
              "    </tr>\n",
              "  </tbody>\n",
              "</table>\n",
              "<p>409 rows × 3 columns</p>\n",
              "</div>\n",
              "      <button class=\"colab-df-convert\" onclick=\"convertToInteractive('df-b08184e9-042a-4ddd-a8c6-1e10a46a33c9')\"\n",
              "              title=\"Convert this dataframe to an interactive table.\"\n",
              "              style=\"display:none;\">\n",
              "        \n",
              "  <svg xmlns=\"http://www.w3.org/2000/svg\" height=\"24px\"viewBox=\"0 0 24 24\"\n",
              "       width=\"24px\">\n",
              "    <path d=\"M0 0h24v24H0V0z\" fill=\"none\"/>\n",
              "    <path d=\"M18.56 5.44l.94 2.06.94-2.06 2.06-.94-2.06-.94-.94-2.06-.94 2.06-2.06.94zm-11 1L8.5 8.5l.94-2.06 2.06-.94-2.06-.94L8.5 2.5l-.94 2.06-2.06.94zm10 10l.94 2.06.94-2.06 2.06-.94-2.06-.94-.94-2.06-.94 2.06-2.06.94z\"/><path d=\"M17.41 7.96l-1.37-1.37c-.4-.4-.92-.59-1.43-.59-.52 0-1.04.2-1.43.59L10.3 9.45l-7.72 7.72c-.78.78-.78 2.05 0 2.83L4 21.41c.39.39.9.59 1.41.59.51 0 1.02-.2 1.41-.59l7.78-7.78 2.81-2.81c.8-.78.8-2.07 0-2.86zM5.41 20L4 18.59l7.72-7.72 1.47 1.35L5.41 20z\"/>\n",
              "  </svg>\n",
              "      </button>\n",
              "      \n",
              "  <style>\n",
              "    .colab-df-container {\n",
              "      display:flex;\n",
              "      flex-wrap:wrap;\n",
              "      gap: 12px;\n",
              "    }\n",
              "\n",
              "    .colab-df-convert {\n",
              "      background-color: #E8F0FE;\n",
              "      border: none;\n",
              "      border-radius: 50%;\n",
              "      cursor: pointer;\n",
              "      display: none;\n",
              "      fill: #1967D2;\n",
              "      height: 32px;\n",
              "      padding: 0 0 0 0;\n",
              "      width: 32px;\n",
              "    }\n",
              "\n",
              "    .colab-df-convert:hover {\n",
              "      background-color: #E2EBFA;\n",
              "      box-shadow: 0px 1px 2px rgba(60, 64, 67, 0.3), 0px 1px 3px 1px rgba(60, 64, 67, 0.15);\n",
              "      fill: #174EA6;\n",
              "    }\n",
              "\n",
              "    [theme=dark] .colab-df-convert {\n",
              "      background-color: #3B4455;\n",
              "      fill: #D2E3FC;\n",
              "    }\n",
              "\n",
              "    [theme=dark] .colab-df-convert:hover {\n",
              "      background-color: #434B5C;\n",
              "      box-shadow: 0px 1px 3px 1px rgba(0, 0, 0, 0.15);\n",
              "      filter: drop-shadow(0px 1px 2px rgba(0, 0, 0, 0.3));\n",
              "      fill: #FFFFFF;\n",
              "    }\n",
              "  </style>\n",
              "\n",
              "      <script>\n",
              "        const buttonEl =\n",
              "          document.querySelector('#df-b08184e9-042a-4ddd-a8c6-1e10a46a33c9 button.colab-df-convert');\n",
              "        buttonEl.style.display =\n",
              "          google.colab.kernel.accessAllowed ? 'block' : 'none';\n",
              "\n",
              "        async function convertToInteractive(key) {\n",
              "          const element = document.querySelector('#df-b08184e9-042a-4ddd-a8c6-1e10a46a33c9');\n",
              "          const dataTable =\n",
              "            await google.colab.kernel.invokeFunction('convertToInteractive',\n",
              "                                                     [key], {});\n",
              "          if (!dataTable) return;\n",
              "\n",
              "          const docLinkHtml = 'Like what you see? Visit the ' +\n",
              "            '<a target=\"_blank\" href=https://colab.research.google.com/notebooks/data_table.ipynb>data table notebook</a>'\n",
              "            + ' to learn more about interactive tables.';\n",
              "          element.innerHTML = '';\n",
              "          dataTable['output_type'] = 'display_data';\n",
              "          await google.colab.output.renderOutput(dataTable, element);\n",
              "          const docLink = document.createElement('div');\n",
              "          docLink.innerHTML = docLinkHtml;\n",
              "          element.appendChild(docLink);\n",
              "        }\n",
              "      </script>\n",
              "    </div>\n",
              "  </div>\n",
              "  "
            ]
          },
          "metadata": {},
          "execution_count": 14
        }
      ]
    },
    {
      "cell_type": "markdown",
      "source": [
        "***Meta Player Value***"
      ],
      "metadata": {
        "id": "O0pxqvWGLqyt"
      }
    },
    {
      "cell_type": "code",
      "source": [
        "sentList = []\n",
        "for sent in range(len(dfMetaUser['Meta_Review'])):\n",
        "  sentList.append(vader.polarity_scores(dfMetaUser['Meta_Review'][sent])['compound'])\n",
        "dfMetaUser['Meta_Sentiment'] = sentList\n",
        "dfMetaUser"
      ],
      "metadata": {
        "colab": {
          "base_uri": "https://localhost:8080/",
          "height": 424
        },
        "id": "xaOe_yprLx9n",
        "outputId": "301b6ec2-7982-4864-a4b8-5dec4e87dff7"
      },
      "execution_count": null,
      "outputs": [
        {
          "output_type": "execute_result",
          "data": {
            "text/plain": [
              "                            game  \\\n",
              "0                          CS:GO   \n",
              "1                          CS:GO   \n",
              "2                          CS:GO   \n",
              "3                          CS:GO   \n",
              "4                          CS:GO   \n",
              "...                          ...   \n",
              "3353  Resident Evil 7: Biohazard   \n",
              "3354  Resident Evil 7: Biohazard   \n",
              "3355  Resident Evil 7: Biohazard   \n",
              "3356  Resident Evil 7: Biohazard   \n",
              "3357  Resident Evil 7: Biohazard   \n",
              "\n",
              "                                            Meta_Review  Meta_Sentiment  \n",
              "0     CS:GO off the bat is a nice update to CS (havi...          0.9928  \n",
              "1     I'm giving this game a 6/10 because it feels i...          0.9212  \n",
              "2     Pretty ok. I was kinda hoping for something di...          0.8736  \n",
              "3     This is the best Counter Strike TO DATE. They ...          0.9319  \n",
              "4     After the huge success the Counter-Strike mod ...          0.9721  \n",
              "...                                                 ...             ...  \n",
              "3353  Whether played in VR or not, Resident Evil 7: ...          0.9586  \n",
              "3354  Gets under your skin by erasing past frills an...         -0.5719  \n",
              "3355  Honestly, I don’t know if the world is ready f...          0.7262  \n",
              "3356  Whether played in VR or not, Resident Evil 7: ...          0.9586  \n",
              "3357  Gets under your skin by erasing past frills an...         -0.5719  \n",
              "\n",
              "[3358 rows x 3 columns]"
            ],
            "text/html": [
              "\n",
              "  <div id=\"df-48be1b66-8fc5-465b-a61f-585da5feca4c\">\n",
              "    <div class=\"colab-df-container\">\n",
              "      <div>\n",
              "<style scoped>\n",
              "    .dataframe tbody tr th:only-of-type {\n",
              "        vertical-align: middle;\n",
              "    }\n",
              "\n",
              "    .dataframe tbody tr th {\n",
              "        vertical-align: top;\n",
              "    }\n",
              "\n",
              "    .dataframe thead th {\n",
              "        text-align: right;\n",
              "    }\n",
              "</style>\n",
              "<table border=\"1\" class=\"dataframe\">\n",
              "  <thead>\n",
              "    <tr style=\"text-align: right;\">\n",
              "      <th></th>\n",
              "      <th>game</th>\n",
              "      <th>Meta_Review</th>\n",
              "      <th>Meta_Sentiment</th>\n",
              "    </tr>\n",
              "  </thead>\n",
              "  <tbody>\n",
              "    <tr>\n",
              "      <th>0</th>\n",
              "      <td>CS:GO</td>\n",
              "      <td>CS:GO off the bat is a nice update to CS (havi...</td>\n",
              "      <td>0.9928</td>\n",
              "    </tr>\n",
              "    <tr>\n",
              "      <th>1</th>\n",
              "      <td>CS:GO</td>\n",
              "      <td>I'm giving this game a 6/10 because it feels i...</td>\n",
              "      <td>0.9212</td>\n",
              "    </tr>\n",
              "    <tr>\n",
              "      <th>2</th>\n",
              "      <td>CS:GO</td>\n",
              "      <td>Pretty ok. I was kinda hoping for something di...</td>\n",
              "      <td>0.8736</td>\n",
              "    </tr>\n",
              "    <tr>\n",
              "      <th>3</th>\n",
              "      <td>CS:GO</td>\n",
              "      <td>This is the best Counter Strike TO DATE. They ...</td>\n",
              "      <td>0.9319</td>\n",
              "    </tr>\n",
              "    <tr>\n",
              "      <th>4</th>\n",
              "      <td>CS:GO</td>\n",
              "      <td>After the huge success the Counter-Strike mod ...</td>\n",
              "      <td>0.9721</td>\n",
              "    </tr>\n",
              "    <tr>\n",
              "      <th>...</th>\n",
              "      <td>...</td>\n",
              "      <td>...</td>\n",
              "      <td>...</td>\n",
              "    </tr>\n",
              "    <tr>\n",
              "      <th>3353</th>\n",
              "      <td>Resident Evil 7: Biohazard</td>\n",
              "      <td>Whether played in VR or not, Resident Evil 7: ...</td>\n",
              "      <td>0.9586</td>\n",
              "    </tr>\n",
              "    <tr>\n",
              "      <th>3354</th>\n",
              "      <td>Resident Evil 7: Biohazard</td>\n",
              "      <td>Gets under your skin by erasing past frills an...</td>\n",
              "      <td>-0.5719</td>\n",
              "    </tr>\n",
              "    <tr>\n",
              "      <th>3355</th>\n",
              "      <td>Resident Evil 7: Biohazard</td>\n",
              "      <td>Honestly, I don’t know if the world is ready f...</td>\n",
              "      <td>0.7262</td>\n",
              "    </tr>\n",
              "    <tr>\n",
              "      <th>3356</th>\n",
              "      <td>Resident Evil 7: Biohazard</td>\n",
              "      <td>Whether played in VR or not, Resident Evil 7: ...</td>\n",
              "      <td>0.9586</td>\n",
              "    </tr>\n",
              "    <tr>\n",
              "      <th>3357</th>\n",
              "      <td>Resident Evil 7: Biohazard</td>\n",
              "      <td>Gets under your skin by erasing past frills an...</td>\n",
              "      <td>-0.5719</td>\n",
              "    </tr>\n",
              "  </tbody>\n",
              "</table>\n",
              "<p>3358 rows × 3 columns</p>\n",
              "</div>\n",
              "      <button class=\"colab-df-convert\" onclick=\"convertToInteractive('df-48be1b66-8fc5-465b-a61f-585da5feca4c')\"\n",
              "              title=\"Convert this dataframe to an interactive table.\"\n",
              "              style=\"display:none;\">\n",
              "        \n",
              "  <svg xmlns=\"http://www.w3.org/2000/svg\" height=\"24px\"viewBox=\"0 0 24 24\"\n",
              "       width=\"24px\">\n",
              "    <path d=\"M0 0h24v24H0V0z\" fill=\"none\"/>\n",
              "    <path d=\"M18.56 5.44l.94 2.06.94-2.06 2.06-.94-2.06-.94-.94-2.06-.94 2.06-2.06.94zm-11 1L8.5 8.5l.94-2.06 2.06-.94-2.06-.94L8.5 2.5l-.94 2.06-2.06.94zm10 10l.94 2.06.94-2.06 2.06-.94-2.06-.94-.94-2.06-.94 2.06-2.06.94z\"/><path d=\"M17.41 7.96l-1.37-1.37c-.4-.4-.92-.59-1.43-.59-.52 0-1.04.2-1.43.59L10.3 9.45l-7.72 7.72c-.78.78-.78 2.05 0 2.83L4 21.41c.39.39.9.59 1.41.59.51 0 1.02-.2 1.41-.59l7.78-7.78 2.81-2.81c.8-.78.8-2.07 0-2.86zM5.41 20L4 18.59l7.72-7.72 1.47 1.35L5.41 20z\"/>\n",
              "  </svg>\n",
              "      </button>\n",
              "      \n",
              "  <style>\n",
              "    .colab-df-container {\n",
              "      display:flex;\n",
              "      flex-wrap:wrap;\n",
              "      gap: 12px;\n",
              "    }\n",
              "\n",
              "    .colab-df-convert {\n",
              "      background-color: #E8F0FE;\n",
              "      border: none;\n",
              "      border-radius: 50%;\n",
              "      cursor: pointer;\n",
              "      display: none;\n",
              "      fill: #1967D2;\n",
              "      height: 32px;\n",
              "      padding: 0 0 0 0;\n",
              "      width: 32px;\n",
              "    }\n",
              "\n",
              "    .colab-df-convert:hover {\n",
              "      background-color: #E2EBFA;\n",
              "      box-shadow: 0px 1px 2px rgba(60, 64, 67, 0.3), 0px 1px 3px 1px rgba(60, 64, 67, 0.15);\n",
              "      fill: #174EA6;\n",
              "    }\n",
              "\n",
              "    [theme=dark] .colab-df-convert {\n",
              "      background-color: #3B4455;\n",
              "      fill: #D2E3FC;\n",
              "    }\n",
              "\n",
              "    [theme=dark] .colab-df-convert:hover {\n",
              "      background-color: #434B5C;\n",
              "      box-shadow: 0px 1px 3px 1px rgba(0, 0, 0, 0.15);\n",
              "      filter: drop-shadow(0px 1px 2px rgba(0, 0, 0, 0.3));\n",
              "      fill: #FFFFFF;\n",
              "    }\n",
              "  </style>\n",
              "\n",
              "      <script>\n",
              "        const buttonEl =\n",
              "          document.querySelector('#df-48be1b66-8fc5-465b-a61f-585da5feca4c button.colab-df-convert');\n",
              "        buttonEl.style.display =\n",
              "          google.colab.kernel.accessAllowed ? 'block' : 'none';\n",
              "\n",
              "        async function convertToInteractive(key) {\n",
              "          const element = document.querySelector('#df-48be1b66-8fc5-465b-a61f-585da5feca4c');\n",
              "          const dataTable =\n",
              "            await google.colab.kernel.invokeFunction('convertToInteractive',\n",
              "                                                     [key], {});\n",
              "          if (!dataTable) return;\n",
              "\n",
              "          const docLinkHtml = 'Like what you see? Visit the ' +\n",
              "            '<a target=\"_blank\" href=https://colab.research.google.com/notebooks/data_table.ipynb>data table notebook</a>'\n",
              "            + ' to learn more about interactive tables.';\n",
              "          element.innerHTML = '';\n",
              "          dataTable['output_type'] = 'display_data';\n",
              "          await google.colab.output.renderOutput(dataTable, element);\n",
              "          const docLink = document.createElement('div');\n",
              "          docLink.innerHTML = docLinkHtml;\n",
              "          element.appendChild(docLink);\n",
              "        }\n",
              "      </script>\n",
              "    </div>\n",
              "  </div>\n",
              "  "
            ]
          },
          "metadata": {},
          "execution_count": 15
        }
      ]
    },
    {
      "cell_type": "code",
      "source": [
        "dfMetaUser[\"isTroll\"] = dfMetaUser[\"Meta_Sentiment\"].apply(lambda x: 1 if x < -0.5 else 0)\n",
        "xTrain, xTest, yTrain, yTest = train_test_split(dfMetaUser[\"Meta_Review\"], dfMetaUser[\"isTroll\"], test_size=0.3)\n",
        "count = CountVectorizer()\n",
        "trainCounts = count.fit_transform(xTrain)\n",
        "testCounts = count.transform(xTest)\n",
        "sentimentClass = MultinomialNB()\n",
        "sentimentClass.fit(trainCounts, yTrain)\n",
        "\n",
        "accuracyScore = sentimentClass.score(testCounts, yTest)\n",
        "accuracyScore"
      ],
      "metadata": {
        "colab": {
          "base_uri": "https://localhost:8080/"
        },
        "id": "tmBbuUJK3qxG",
        "outputId": "3ba13a00-8497-466e-e52a-c30a7a97e289"
      },
      "execution_count": null,
      "outputs": [
        {
          "output_type": "execute_result",
          "data": {
            "text/plain": [
              "0.8095238095238095"
            ]
          },
          "metadata": {},
          "execution_count": 16
        }
      ]
    },
    {
      "cell_type": "code",
      "source": [
        "trollRowsMeta = (dfMetaUser[\"isTroll\"] == 1).sum()\n",
        "nontrollRowsMeta = (dfMetaUser[\"isTroll\"] == 0).sum()\n",
        "trollRowsMeta"
      ],
      "metadata": {
        "colab": {
          "base_uri": "https://localhost:8080/"
        },
        "id": "hXOzTrjSECes",
        "outputId": "53b11eef-a831-4a6e-df0a-b02a5e0951ff"
      },
      "execution_count": null,
      "outputs": [
        {
          "output_type": "execute_result",
          "data": {
            "text/plain": [
              "824"
            ]
          },
          "metadata": {},
          "execution_count": 17
        }
      ]
    },
    {
      "cell_type": "code",
      "source": [
        "dfMeta.iloc[400:500]"
      ],
      "metadata": {
        "colab": {
          "base_uri": "https://localhost:8080/",
          "height": 332
        },
        "id": "Nke15YkkWk4S",
        "outputId": "6502cdf4-5027-471c-a04e-3d328f2a1b0f"
      },
      "execution_count": null,
      "outputs": [
        {
          "output_type": "execute_result",
          "data": {
            "text/plain": [
              "                           Game  \\\n",
              "400  Resident Evil 7: Biohazard   \n",
              "401  Resident Evil 7: Biohazard   \n",
              "402  Resident Evil 7: Biohazard   \n",
              "403  Resident Evil 7: Biohazard   \n",
              "404  Resident Evil 7: Biohazard   \n",
              "405  Resident Evil 7: Biohazard   \n",
              "406  Resident Evil 7: Biohazard   \n",
              "407  Resident Evil 7: Biohazard   \n",
              "408  Resident Evil 7: Biohazard   \n",
              "\n",
              "                                         Critic_Review  Critic_Sentiment  \n",
              "400  Perhaps Resident Evil 7's most intriguing qual...           -0.5267  \n",
              "401  After years of stagnation, the stage was ripe ...           -0.7351  \n",
              "402  Resident Evil 7 can occasionally frustrate wit...           -0.9862  \n",
              "403  It's a minor miracle that Capcom was able to b...           -0.9011  \n",
              "404  A bold and successful reinvention of the franc...            0.9240  \n",
              "405  From its opening unhinged riff on Texas Chains...           -0.3818  \n",
              "406  best resident evil since 4, its actually scary...           -0.9442  \n",
              "407  This game isn't Resident Evil I give it a 4 ov...            0.1485  \n",
              "408  I never was a big Resident Evil fan until I de...            0.9422  "
            ],
            "text/html": [
              "\n",
              "  <div id=\"df-77404c61-af53-429f-a645-f31c9b56048c\">\n",
              "    <div class=\"colab-df-container\">\n",
              "      <div>\n",
              "<style scoped>\n",
              "    .dataframe tbody tr th:only-of-type {\n",
              "        vertical-align: middle;\n",
              "    }\n",
              "\n",
              "    .dataframe tbody tr th {\n",
              "        vertical-align: top;\n",
              "    }\n",
              "\n",
              "    .dataframe thead th {\n",
              "        text-align: right;\n",
              "    }\n",
              "</style>\n",
              "<table border=\"1\" class=\"dataframe\">\n",
              "  <thead>\n",
              "    <tr style=\"text-align: right;\">\n",
              "      <th></th>\n",
              "      <th>Game</th>\n",
              "      <th>Critic_Review</th>\n",
              "      <th>Critic_Sentiment</th>\n",
              "    </tr>\n",
              "  </thead>\n",
              "  <tbody>\n",
              "    <tr>\n",
              "      <th>400</th>\n",
              "      <td>Resident Evil 7: Biohazard</td>\n",
              "      <td>Perhaps Resident Evil 7's most intriguing qual...</td>\n",
              "      <td>-0.5267</td>\n",
              "    </tr>\n",
              "    <tr>\n",
              "      <th>401</th>\n",
              "      <td>Resident Evil 7: Biohazard</td>\n",
              "      <td>After years of stagnation, the stage was ripe ...</td>\n",
              "      <td>-0.7351</td>\n",
              "    </tr>\n",
              "    <tr>\n",
              "      <th>402</th>\n",
              "      <td>Resident Evil 7: Biohazard</td>\n",
              "      <td>Resident Evil 7 can occasionally frustrate wit...</td>\n",
              "      <td>-0.9862</td>\n",
              "    </tr>\n",
              "    <tr>\n",
              "      <th>403</th>\n",
              "      <td>Resident Evil 7: Biohazard</td>\n",
              "      <td>It's a minor miracle that Capcom was able to b...</td>\n",
              "      <td>-0.9011</td>\n",
              "    </tr>\n",
              "    <tr>\n",
              "      <th>404</th>\n",
              "      <td>Resident Evil 7: Biohazard</td>\n",
              "      <td>A bold and successful reinvention of the franc...</td>\n",
              "      <td>0.9240</td>\n",
              "    </tr>\n",
              "    <tr>\n",
              "      <th>405</th>\n",
              "      <td>Resident Evil 7: Biohazard</td>\n",
              "      <td>From its opening unhinged riff on Texas Chains...</td>\n",
              "      <td>-0.3818</td>\n",
              "    </tr>\n",
              "    <tr>\n",
              "      <th>406</th>\n",
              "      <td>Resident Evil 7: Biohazard</td>\n",
              "      <td>best resident evil since 4, its actually scary...</td>\n",
              "      <td>-0.9442</td>\n",
              "    </tr>\n",
              "    <tr>\n",
              "      <th>407</th>\n",
              "      <td>Resident Evil 7: Biohazard</td>\n",
              "      <td>This game isn't Resident Evil I give it a 4 ov...</td>\n",
              "      <td>0.1485</td>\n",
              "    </tr>\n",
              "    <tr>\n",
              "      <th>408</th>\n",
              "      <td>Resident Evil 7: Biohazard</td>\n",
              "      <td>I never was a big Resident Evil fan until I de...</td>\n",
              "      <td>0.9422</td>\n",
              "    </tr>\n",
              "  </tbody>\n",
              "</table>\n",
              "</div>\n",
              "      <button class=\"colab-df-convert\" onclick=\"convertToInteractive('df-77404c61-af53-429f-a645-f31c9b56048c')\"\n",
              "              title=\"Convert this dataframe to an interactive table.\"\n",
              "              style=\"display:none;\">\n",
              "        \n",
              "  <svg xmlns=\"http://www.w3.org/2000/svg\" height=\"24px\"viewBox=\"0 0 24 24\"\n",
              "       width=\"24px\">\n",
              "    <path d=\"M0 0h24v24H0V0z\" fill=\"none\"/>\n",
              "    <path d=\"M18.56 5.44l.94 2.06.94-2.06 2.06-.94-2.06-.94-.94-2.06-.94 2.06-2.06.94zm-11 1L8.5 8.5l.94-2.06 2.06-.94-2.06-.94L8.5 2.5l-.94 2.06-2.06.94zm10 10l.94 2.06.94-2.06 2.06-.94-2.06-.94-.94-2.06-.94 2.06-2.06.94z\"/><path d=\"M17.41 7.96l-1.37-1.37c-.4-.4-.92-.59-1.43-.59-.52 0-1.04.2-1.43.59L10.3 9.45l-7.72 7.72c-.78.78-.78 2.05 0 2.83L4 21.41c.39.39.9.59 1.41.59.51 0 1.02-.2 1.41-.59l7.78-7.78 2.81-2.81c.8-.78.8-2.07 0-2.86zM5.41 20L4 18.59l7.72-7.72 1.47 1.35L5.41 20z\"/>\n",
              "  </svg>\n",
              "      </button>\n",
              "      \n",
              "  <style>\n",
              "    .colab-df-container {\n",
              "      display:flex;\n",
              "      flex-wrap:wrap;\n",
              "      gap: 12px;\n",
              "    }\n",
              "\n",
              "    .colab-df-convert {\n",
              "      background-color: #E8F0FE;\n",
              "      border: none;\n",
              "      border-radius: 50%;\n",
              "      cursor: pointer;\n",
              "      display: none;\n",
              "      fill: #1967D2;\n",
              "      height: 32px;\n",
              "      padding: 0 0 0 0;\n",
              "      width: 32px;\n",
              "    }\n",
              "\n",
              "    .colab-df-convert:hover {\n",
              "      background-color: #E2EBFA;\n",
              "      box-shadow: 0px 1px 2px rgba(60, 64, 67, 0.3), 0px 1px 3px 1px rgba(60, 64, 67, 0.15);\n",
              "      fill: #174EA6;\n",
              "    }\n",
              "\n",
              "    [theme=dark] .colab-df-convert {\n",
              "      background-color: #3B4455;\n",
              "      fill: #D2E3FC;\n",
              "    }\n",
              "\n",
              "    [theme=dark] .colab-df-convert:hover {\n",
              "      background-color: #434B5C;\n",
              "      box-shadow: 0px 1px 3px 1px rgba(0, 0, 0, 0.15);\n",
              "      filter: drop-shadow(0px 1px 2px rgba(0, 0, 0, 0.3));\n",
              "      fill: #FFFFFF;\n",
              "    }\n",
              "  </style>\n",
              "\n",
              "      <script>\n",
              "        const buttonEl =\n",
              "          document.querySelector('#df-77404c61-af53-429f-a645-f31c9b56048c button.colab-df-convert');\n",
              "        buttonEl.style.display =\n",
              "          google.colab.kernel.accessAllowed ? 'block' : 'none';\n",
              "\n",
              "        async function convertToInteractive(key) {\n",
              "          const element = document.querySelector('#df-77404c61-af53-429f-a645-f31c9b56048c');\n",
              "          const dataTable =\n",
              "            await google.colab.kernel.invokeFunction('convertToInteractive',\n",
              "                                                     [key], {});\n",
              "          if (!dataTable) return;\n",
              "\n",
              "          const docLinkHtml = 'Like what you see? Visit the ' +\n",
              "            '<a target=\"_blank\" href=https://colab.research.google.com/notebooks/data_table.ipynb>data table notebook</a>'\n",
              "            + ' to learn more about interactive tables.';\n",
              "          element.innerHTML = '';\n",
              "          dataTable['output_type'] = 'display_data';\n",
              "          await google.colab.output.renderOutput(dataTable, element);\n",
              "          const docLink = document.createElement('div');\n",
              "          docLink.innerHTML = docLinkHtml;\n",
              "          element.appendChild(docLink);\n",
              "        }\n",
              "      </script>\n",
              "    </div>\n",
              "  </div>\n",
              "  "
            ]
          },
          "metadata": {},
          "execution_count": 19
        }
      ]
    },
    {
      "cell_type": "code",
      "source": [
        "\n",
        "dfMetaUser = dfMetaUser.rename(columns={'game': 'Game'})\n",
        "dfMeta_mean = dfMeta.groupby('Game')['Critic_Sentiment'].mean().reset_index()\n",
        "dfMetaUser_mean = dfMetaUser.groupby('Game')['Meta_Sentiment'].mean().reset_index()\n",
        "dfSteam_mean = dfSteam.groupby('Game')['Sentiment'].mean().reset_index()\n",
        "df_mean = pd.merge(dfMeta_mean, dfMetaUser_mean, on='Game')\n",
        "df_mean = pd.merge(df_mean, dfSteam_mean, on='Game')\n",
        "df_mean.columns = ['Game', 'Critic_Sentiment', 'Meta_Sentiment', 'Steam_Sentiment']\n",
        "\n",
        "df_mean"
      ],
      "metadata": {
        "colab": {
          "base_uri": "https://localhost:8080/",
          "height": 175
        },
        "id": "_LttnVJ3e14L",
        "outputId": "d6434581-fea8-42f2-9a99-d41f0bda409b"
      },
      "execution_count": null,
      "outputs": [
        {
          "output_type": "execute_result",
          "data": {
            "text/plain": [
              "                         Game  Critic_Sentiment  Meta_Sentiment  \\\n",
              "0                Apex Legends          0.448419        0.275144   \n",
              "1                       CS:GO          0.471371        0.307988   \n",
              "2            Dead By Daylight          0.315079       -0.149132   \n",
              "3  Resident Evil 7: Biohazard          0.062954        0.096376   \n",
              "\n",
              "   Steam_Sentiment  \n",
              "0        -0.037340  \n",
              "1         0.213976  \n",
              "2        -0.021419  \n",
              "3         0.157832  "
            ],
            "text/html": [
              "\n",
              "  <div id=\"df-0cf3184d-96de-433f-b077-433cad28d656\">\n",
              "    <div class=\"colab-df-container\">\n",
              "      <div>\n",
              "<style scoped>\n",
              "    .dataframe tbody tr th:only-of-type {\n",
              "        vertical-align: middle;\n",
              "    }\n",
              "\n",
              "    .dataframe tbody tr th {\n",
              "        vertical-align: top;\n",
              "    }\n",
              "\n",
              "    .dataframe thead th {\n",
              "        text-align: right;\n",
              "    }\n",
              "</style>\n",
              "<table border=\"1\" class=\"dataframe\">\n",
              "  <thead>\n",
              "    <tr style=\"text-align: right;\">\n",
              "      <th></th>\n",
              "      <th>Game</th>\n",
              "      <th>Critic_Sentiment</th>\n",
              "      <th>Meta_Sentiment</th>\n",
              "      <th>Steam_Sentiment</th>\n",
              "    </tr>\n",
              "  </thead>\n",
              "  <tbody>\n",
              "    <tr>\n",
              "      <th>0</th>\n",
              "      <td>Apex Legends</td>\n",
              "      <td>0.448419</td>\n",
              "      <td>0.275144</td>\n",
              "      <td>-0.037340</td>\n",
              "    </tr>\n",
              "    <tr>\n",
              "      <th>1</th>\n",
              "      <td>CS:GO</td>\n",
              "      <td>0.471371</td>\n",
              "      <td>0.307988</td>\n",
              "      <td>0.213976</td>\n",
              "    </tr>\n",
              "    <tr>\n",
              "      <th>2</th>\n",
              "      <td>Dead By Daylight</td>\n",
              "      <td>0.315079</td>\n",
              "      <td>-0.149132</td>\n",
              "      <td>-0.021419</td>\n",
              "    </tr>\n",
              "    <tr>\n",
              "      <th>3</th>\n",
              "      <td>Resident Evil 7: Biohazard</td>\n",
              "      <td>0.062954</td>\n",
              "      <td>0.096376</td>\n",
              "      <td>0.157832</td>\n",
              "    </tr>\n",
              "  </tbody>\n",
              "</table>\n",
              "</div>\n",
              "      <button class=\"colab-df-convert\" onclick=\"convertToInteractive('df-0cf3184d-96de-433f-b077-433cad28d656')\"\n",
              "              title=\"Convert this dataframe to an interactive table.\"\n",
              "              style=\"display:none;\">\n",
              "        \n",
              "  <svg xmlns=\"http://www.w3.org/2000/svg\" height=\"24px\"viewBox=\"0 0 24 24\"\n",
              "       width=\"24px\">\n",
              "    <path d=\"M0 0h24v24H0V0z\" fill=\"none\"/>\n",
              "    <path d=\"M18.56 5.44l.94 2.06.94-2.06 2.06-.94-2.06-.94-.94-2.06-.94 2.06-2.06.94zm-11 1L8.5 8.5l.94-2.06 2.06-.94-2.06-.94L8.5 2.5l-.94 2.06-2.06.94zm10 10l.94 2.06.94-2.06 2.06-.94-2.06-.94-.94-2.06-.94 2.06-2.06.94z\"/><path d=\"M17.41 7.96l-1.37-1.37c-.4-.4-.92-.59-1.43-.59-.52 0-1.04.2-1.43.59L10.3 9.45l-7.72 7.72c-.78.78-.78 2.05 0 2.83L4 21.41c.39.39.9.59 1.41.59.51 0 1.02-.2 1.41-.59l7.78-7.78 2.81-2.81c.8-.78.8-2.07 0-2.86zM5.41 20L4 18.59l7.72-7.72 1.47 1.35L5.41 20z\"/>\n",
              "  </svg>\n",
              "      </button>\n",
              "      \n",
              "  <style>\n",
              "    .colab-df-container {\n",
              "      display:flex;\n",
              "      flex-wrap:wrap;\n",
              "      gap: 12px;\n",
              "    }\n",
              "\n",
              "    .colab-df-convert {\n",
              "      background-color: #E8F0FE;\n",
              "      border: none;\n",
              "      border-radius: 50%;\n",
              "      cursor: pointer;\n",
              "      display: none;\n",
              "      fill: #1967D2;\n",
              "      height: 32px;\n",
              "      padding: 0 0 0 0;\n",
              "      width: 32px;\n",
              "    }\n",
              "\n",
              "    .colab-df-convert:hover {\n",
              "      background-color: #E2EBFA;\n",
              "      box-shadow: 0px 1px 2px rgba(60, 64, 67, 0.3), 0px 1px 3px 1px rgba(60, 64, 67, 0.15);\n",
              "      fill: #174EA6;\n",
              "    }\n",
              "\n",
              "    [theme=dark] .colab-df-convert {\n",
              "      background-color: #3B4455;\n",
              "      fill: #D2E3FC;\n",
              "    }\n",
              "\n",
              "    [theme=dark] .colab-df-convert:hover {\n",
              "      background-color: #434B5C;\n",
              "      box-shadow: 0px 1px 3px 1px rgba(0, 0, 0, 0.15);\n",
              "      filter: drop-shadow(0px 1px 2px rgba(0, 0, 0, 0.3));\n",
              "      fill: #FFFFFF;\n",
              "    }\n",
              "  </style>\n",
              "\n",
              "      <script>\n",
              "        const buttonEl =\n",
              "          document.querySelector('#df-0cf3184d-96de-433f-b077-433cad28d656 button.colab-df-convert');\n",
              "        buttonEl.style.display =\n",
              "          google.colab.kernel.accessAllowed ? 'block' : 'none';\n",
              "\n",
              "        async function convertToInteractive(key) {\n",
              "          const element = document.querySelector('#df-0cf3184d-96de-433f-b077-433cad28d656');\n",
              "          const dataTable =\n",
              "            await google.colab.kernel.invokeFunction('convertToInteractive',\n",
              "                                                     [key], {});\n",
              "          if (!dataTable) return;\n",
              "\n",
              "          const docLinkHtml = 'Like what you see? Visit the ' +\n",
              "            '<a target=\"_blank\" href=https://colab.research.google.com/notebooks/data_table.ipynb>data table notebook</a>'\n",
              "            + ' to learn more about interactive tables.';\n",
              "          element.innerHTML = '';\n",
              "          dataTable['output_type'] = 'display_data';\n",
              "          await google.colab.output.renderOutput(dataTable, element);\n",
              "          const docLink = document.createElement('div');\n",
              "          docLink.innerHTML = docLinkHtml;\n",
              "          element.appendChild(docLink);\n",
              "        }\n",
              "      </script>\n",
              "    </div>\n",
              "  </div>\n",
              "  "
            ]
          },
          "metadata": {},
          "execution_count": 20
        }
      ]
    },
    {
      "cell_type": "markdown",
      "source": [
        "**Graphing**"
      ],
      "metadata": {
        "id": "BEpyw28TBXs6"
      }
    },
    {
      "cell_type": "code",
      "source": [
        "#@title Average Sentiment Score of Games from Critics and Meta Users\n",
        "ax = df_mean.plot(kind='bar', x='Game', y=['Critic_Sentiment', 'Meta_Sentiment'], color=['blue', 'orange'], position=0.5, width=0.4)\n",
        "ax.set_ylabel('Sentiment Score')\n",
        "ax.set_title('Average Sentiment Score of Games')\n",
        "ax.legend()\n",
        "plt.axhline(y=0.0, color='b')\n",
        "plt.xticks(rotation=25)\n",
        "plt.figure(figsize=(10,20))\n",
        "plt.show()"
      ],
      "metadata": {
        "colab": {
          "base_uri": "https://localhost:8080/",
          "height": 367
        },
        "id": "2VBTc9QTkZfG",
        "outputId": "6fc87be5-deb4-4be3-e8d3-cc84163c3e6f",
        "cellView": "form"
      },
      "execution_count": null,
      "outputs": [
        {
          "output_type": "display_data",
          "data": {
            "text/plain": [
              "<Figure size 432x288 with 1 Axes>"
            ],
            "image/png": "[encoded data removed]"
          },
          "metadata": {
            "needs_background": "light"
          }
        },
        {
          "output_type": "display_data",
          "data": {
            "text/plain": [
              "<Figure size 720x1440 with 0 Axes>"
            ]
          },
          "metadata": {}
        }
      ]
    },
    {
      "cell_type": "code",
      "source": [
        "#@title Average Sentiment of Games from Critic and Steam\n",
        "ax = df_mean.plot(kind='bar', x='Game', y=['Critic_Sentiment', 'Steam_Sentiment'], color=['blue', 'orange'], position=0.5, width=0.4)\n",
        "ax.set_ylabel('Sentiment Score')\n",
        "ax.set_title('Average Sentiment Score of Games')\n",
        "ax.legend()\n",
        "plt.axhline(y=0.0, color='b')\n",
        "plt.xticks(rotation=25)\n",
        "plt.figure(figsize=(10,20))\n",
        "plt.show()"
      ],
      "metadata": {
        "colab": {
          "base_uri": "https://localhost:8080/",
          "height": 367
        },
        "id": "ar7JxbeehSSG",
        "outputId": "435d4d6c-602d-4a73-8d24-9d81b89025fe",
        "cellView": "form"
      },
      "execution_count": null,
      "outputs": [
        {
          "output_type": "display_data",
          "data": {
            "text/plain": [
              "<Figure size 432x288 with 1 Axes>"
            ],
            "image/png": "[encoded data removed]"
          },
          "metadata": {
            "needs_background": "light"
          }
        },
        {
          "output_type": "display_data",
          "data": {
            "text/plain": [
              "<Figure size 720x1440 with 0 Axes>"
            ]
          },
          "metadata": {}
        }
      ]
    },
    {
      "cell_type": "code",
      "source": [
        "#@title Average Sentiment Score of Games from Steam Players and Meta Users\n",
        "ax = df_mean.plot(kind='bar', x='Game', y=['Steam_Sentiment', 'Meta_Sentiment'], color=['blue', 'orange'], position=0.5, width=0.4)\n",
        "ax.set_ylabel('Sentiment Score')\n",
        "ax.set_title('Average Sentiment Score of Games')\n",
        "ax.legend()\n",
        "plt.axhline(y=0.0, color='b')\n",
        "plt.xticks(rotation=25)\n",
        "plt.figure(figsize=(10,20))\n",
        "plt.show()"
      ],
      "metadata": {
        "colab": {
          "base_uri": "https://localhost:8080/",
          "height": 367
        },
        "id": "IUBJAeuqhfZx",
        "outputId": "c0eeccb9-48c9-4d5b-97a6-fd844fec628f",
        "cellView": "form"
      },
      "execution_count": null,
      "outputs": [
        {
          "output_type": "display_data",
          "data": {
            "text/plain": [
              "<Figure size 432x288 with 1 Axes>"
            ],
            "image/png": "[encoded data removed]"
          },
          "metadata": {
            "needs_background": "light"
          }
        },
        {
          "output_type": "display_data",
          "data": {
            "text/plain": [
              "<Figure size 720x1440 with 0 Axes>"
            ]
          },
          "metadata": {}
        }
      ]
    },
    {
      "cell_type": "code",
      "source": [
        "#@title Sentiment of Steam Players\n",
        "sns.barplot(data=dfSteam, x='Game', y='Sentiment').set(title='Sentiment of Games from Players')\n",
        "plt.axhline(y=0.0, color='b')\n",
        "plt.xticks(rotation=25)"
      ],
      "metadata": {
        "id": "m3k6qzuiBXZM",
        "colab": {
          "base_uri": "https://localhost:8080/",
          "height": 438
        },
        "outputId": "1b96b727-48b1-4f8c-a7b2-a60d81e1ae48",
        "cellView": "form"
      },
      "execution_count": null,
      "outputs": [
        {
          "output_type": "execute_result",
          "data": {
            "text/plain": [
              "(array([0, 1, 2, 3]),\n",
              " [Text(0, 0, 'CS:GO'),\n",
              "  Text(1, 0, 'Apex Legends'),\n",
              "  Text(2, 0, 'Dead By Daylight'),\n",
              "  Text(3, 0, 'Resident Evil 7: Biohazard')])"
            ]
          },
          "metadata": {},
          "execution_count": 24
        },
        {
          "output_type": "display_data",
          "data": {
            "text/plain": [
              "<Figure size 432x288 with 1 Axes>"
            ],
            "image/png": "[encoded data removed]"
          },
          "metadata": {
            "needs_background": "light"
          }
        }
      ]
    },
    {
      "cell_type": "code",
      "source": [
        "#@title Sentiment of Steam Players\n",
        "sns.barplot(data=dfSteam, x='Game',y='Sentiment', hue='Voted_Up').set(title='Sentiment of thumbs up and down')\n",
        "plt.axhline(y=0.0, color='b')\n",
        "plt.xticks(rotation=45)"
      ],
      "metadata": {
        "colab": {
          "base_uri": "https://localhost:8080/",
          "height": 473
        },
        "id": "lDTDRNQwEZpA",
        "outputId": "a99d3c3d-bb16-459e-9896-f83815e8381b",
        "cellView": "form"
      },
      "execution_count": null,
      "outputs": [
        {
          "output_type": "execute_result",
          "data": {
            "text/plain": [
              "(array([0, 1, 2, 3]),\n",
              " [Text(0, 0, 'CS:GO'),\n",
              "  Text(1, 0, 'Apex Legends'),\n",
              "  Text(2, 0, 'Dead By Daylight'),\n",
              "  Text(3, 0, 'Resident Evil 7: Biohazard')])"
            ]
          },
          "metadata": {},
          "execution_count": 25
        },
        {
          "output_type": "display_data",
          "data": {
            "text/plain": [
              "<Figure size 432x288 with 1 Axes>"
            ],
            "image/png": "[encoded data removed]"
          },
          "metadata": {
            "needs_background": "light"
          }
        }
      ]
    },
    {
      "cell_type": "code",
      "source": [
        "#@title Players Rating Thumbs Up or Down\n",
        "sns.scatterplot(data=dfSteam, x='Game',y='Sentiment', hue='Voted_Up').set(title='Sentiment of thumbs up and down')\n",
        "plt.axhline(y=0.0, color='b')\n",
        "plt.xticks(rotation=45)"
      ],
      "metadata": {
        "id": "uAkZGmByTC3H",
        "outputId": "5b6dce42-191b-4444-a027-f4f43bc77553",
        "colab": {
          "base_uri": "https://localhost:8080/",
          "height": 420
        },
        "cellView": "form"
      },
      "execution_count": null,
      "outputs": [
        {
          "output_type": "execute_result",
          "data": {
            "text/plain": [
              "([0, 1, 2, 3],\n",
              " [Text(0, 0, ''), Text(0, 0, ''), Text(0, 0, ''), Text(0, 0, '')])"
            ]
          },
          "metadata": {},
          "execution_count": 26
        },
        {
          "output_type": "display_data",
          "data": {
            "text/plain": [
              "<Figure size 432x288 with 1 Axes>"
            ],
            "image/png": "[encoded data removed]"
          },
          "metadata": {
            "needs_background": "light"
          }
        }
      ]
    }
  ],
  "metadata": {
    "colab": {
      "provenance": [],
      "include_colab_link": true
    },
    "kernelspec": {
      "display_name": "Python 3",
      "name": "python3"
    },
    "language_info": {
      "name": "python"
    }
  },
  "nbformat": 4,
  "nbformat_minor": 0
}